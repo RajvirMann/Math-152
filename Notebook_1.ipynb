{
  "nbformat": 4,
  "nbformat_minor": 0,
  "metadata": {
    "kernelspec": {
      "display_name": "Python 3",
      "language": "python",
      "name": "python3"
    },
    "language_info": {
      "codemirror_mode": {
        "name": "ipython",
        "version": 3
      },
      "file_extension": ".py",
      "mimetype": "text/x-python",
      "name": "python",
      "nbconvert_exporter": "python",
      "pygments_lexer": "ipython3",
      "version": "3.6.7"
    },
    "colab": {
      "name": "Notebook 1",
      "provenance": [],
      "toc_visible": true,
      "include_colab_link": true
    }
  },
  "cells": [
    {
      "cell_type": "markdown",
      "metadata": {
        "id": "view-in-github",
        "colab_type": "text"
      },
      "source": [
        "<a href=\"https://colab.research.google.com/github/RajvirMann/Math-152/blob/main/Notebook_1.ipynb\" target=\"_parent\"><img src=\"https://colab.research.google.com/assets/colab-badge.svg\" alt=\"Open In Colab\"/></a>"
      ]
    },
    {
      "cell_type": "markdown",
      "metadata": {
        "id": "aLsfIWSoU5x_"
      },
      "source": [
        "#  Computing with Python:  an Introduction"
      ]
    },
    {
      "cell_type": "markdown",
      "metadata": {
        "id": "AXTRG_T1U5yD"
      },
      "source": [
        "Welcome to programming!\n",
        "\n",
        "What is the difference between *Python* and a calculator?  We begin this first lesson by showing how Python can be used **as** a calculator, and we move into one of the most important programming structures -- the **loop**.  Loops allow computers to carry out repetetive computations, with just a few commands.\n",
        "\n",
        "To navigate this notebook, you might wish to click on the Table of Contents icon (near top-left of the Google Colab window).  Then you can expand the sections to work on each one.\n",
        "\n",
        "Remember to save your work frequently on your personal GitHub repository."
      ]
    },
    {
      "cell_type": "markdown",
      "metadata": {
        "id": "-y8Iz5LaU5yD"
      },
      "source": [
        "# Python as a calculator"
      ]
    },
    {
      "cell_type": "markdown",
      "metadata": {
        "id": "6rbqov7pU5yE"
      },
      "source": [
        "Different kinds of data are stored as different *types* in Python.  For example, if you wish to work with integers, your data is typically stored as an *int*.  A real number might be stored as a *float*.  There are types for booleans (True/False data), strings (like \"Hello World!\"), and many more we will see.  \n",
        "\n",
        "A more complete reference for Python's numerical types and arithmetic operations can be found in the [official Python documentation](https://docs.python.org/3/library/stdtypes.html).  The [official Python tutorial](https://docs.python.org/3/tutorial/introduction.html) is also a great place to start.\n",
        "\n",
        "Python allows you to perform arithmetic operations:  addition, subtraction, multiplication, and division, on numerical types.  The operation symbols are `+`, `-`, `*`, and `/`.   Evaluate each of the following cells to see how Python performs operations on *integers*.  \n",
        "\n",
        "To evaluate the cell, click anywhere within the cell to select it and use the keyboard shortcut *Shift-Enter* to evaluate.  But as you go through this and later lessons, try to *predict* what will happen when you evaluate the cell before you hit Shift-Enter.  Don't just click click click!  Think for a few seconds or a minute, and then Shift-Enter."
      ]
    },
    {
      "cell_type": "code",
      "metadata": {
        "scrolled": true,
        "id": "yqyWbMp-U5yE",
        "colab": {
          "base_uri": "https://localhost:8080/"
        },
        "outputId": "c68a4469-fc46-4f31-fc97-6595d1e6be09"
      },
      "source": [
        "2 + 3"
      ],
      "execution_count": null,
      "outputs": [
        {
          "output_type": "execute_result",
          "data": {
            "text/plain": [
              "5"
            ]
          },
          "metadata": {
            "tags": []
          },
          "execution_count": 1
        }
      ]
    },
    {
      "cell_type": "code",
      "metadata": {
        "scrolled": true,
        "id": "ITtBZC2kU5yE",
        "colab": {
          "base_uri": "https://localhost:8080/"
        },
        "outputId": "d8eb4c21-7621-46ce-fe66-47e2d42dfc1f"
      },
      "source": [
        "2 * 3"
      ],
      "execution_count": null,
      "outputs": [
        {
          "output_type": "execute_result",
          "data": {
            "text/plain": [
              "6"
            ]
          },
          "metadata": {
            "tags": []
          },
          "execution_count": 2
        }
      ]
    },
    {
      "cell_type": "code",
      "metadata": {
        "id": "mS2JIy1oU5yE",
        "colab": {
          "base_uri": "https://localhost:8080/"
        },
        "outputId": "7ee3c2cd-9ec2-49f4-f7a1-efbe7e993505"
      },
      "source": [
        "5 - 11"
      ],
      "execution_count": null,
      "outputs": [
        {
          "output_type": "execute_result",
          "data": {
            "text/plain": [
              "-6"
            ]
          },
          "metadata": {
            "tags": []
          },
          "execution_count": 3
        }
      ]
    },
    {
      "cell_type": "code",
      "metadata": {
        "id": "WRjeVm8rU5yF",
        "colab": {
          "base_uri": "https://localhost:8080/"
        },
        "outputId": "1bb7b0cb-89b8-4ccf-f69d-dbbf520aa7fb"
      },
      "source": [
        "5.0 - 11"
      ],
      "execution_count": null,
      "outputs": [
        {
          "output_type": "execute_result",
          "data": {
            "text/plain": [
              "-6.0"
            ]
          },
          "metadata": {
            "tags": []
          },
          "execution_count": 4
        }
      ]
    },
    {
      "cell_type": "code",
      "metadata": {
        "id": "Q9pdWY_hU5yF",
        "colab": {
          "base_uri": "https://localhost:8080/"
        },
        "outputId": "45ee51d1-9b1a-437f-9395-fb701e507b7d"
      },
      "source": [
        "5 / 11"
      ],
      "execution_count": null,
      "outputs": [
        {
          "output_type": "execute_result",
          "data": {
            "text/plain": [
              "0.45454545454545453"
            ]
          },
          "metadata": {
            "tags": []
          },
          "execution_count": 5
        }
      ]
    },
    {
      "cell_type": "code",
      "metadata": {
        "id": "TPzva1UXU5yF",
        "colab": {
          "base_uri": "https://localhost:8080/"
        },
        "outputId": "293192f8-550e-4cbb-8f0f-a1ac6ad7d8b8"
      },
      "source": [
        "6 / 3"
      ],
      "execution_count": null,
      "outputs": [
        {
          "output_type": "execute_result",
          "data": {
            "text/plain": [
              "2.0"
            ]
          },
          "metadata": {
            "tags": []
          },
          "execution_count": 6
        }
      ]
    },
    {
      "cell_type": "code",
      "metadata": {
        "id": "GUmGnpHVU5yF",
        "colab": {
          "base_uri": "https://localhost:8080/"
        },
        "outputId": "b6d02839-1596-4ccc-c32b-7eee0f61a473"
      },
      "source": [
        "5 // 11"
      ],
      "execution_count": null,
      "outputs": [
        {
          "output_type": "execute_result",
          "data": {
            "text/plain": [
              "0"
            ]
          },
          "metadata": {
            "tags": []
          },
          "execution_count": 7
        }
      ]
    },
    {
      "cell_type": "code",
      "metadata": {
        "id": "JEXb5uPQU5yF",
        "colab": {
          "base_uri": "https://localhost:8080/"
        },
        "outputId": "732a4dcf-efee-4589-f2e4-e01968fa403f"
      },
      "source": [
        "6 // 3"
      ],
      "execution_count": null,
      "outputs": [
        {
          "output_type": "execute_result",
          "data": {
            "text/plain": [
              "2"
            ]
          },
          "metadata": {
            "tags": []
          },
          "execution_count": 8
        }
      ]
    },
    {
      "cell_type": "markdown",
      "metadata": {
        "id": "o4t4Yw_XU5yF"
      },
      "source": [
        "The results are probably not too surprising, though the last two require a bit of explanation.  Python *interprets* the input number 5 as an *int* (integer) and 5.0 as a *float*.  \"Float\" stands for \"floating point number,\" which are decimal approximations to real numbers.  The word \"float\" refers to the fact that the decimal (or binary, for computers) point can float around (as in 1.2345 or 12.345 or 123.45 or 1234.5 or 0.00012345).  There are deep computational issues related to how computers handle decimal approximations, and you can [read about the IEEE standards](https://en.wikipedia.org/wiki/IEEE_754) if you're interested.\n",
        "\n",
        "Python enables different kinds of division.  The single-slash division in Python 3.x gives a floating point approximation of the quotient.  That's why `5 / 11` and `6 / 3` both output floats.  On the other hand, `5 // 11` and `6 // 3` yield integer outputs (rounding down) -- this is useful, but one has to be careful!\n",
        "\n",
        "In fact the designers of Python changed their mind.  **This tutorial assumes that you are using Python 3.x.**  If you are using Python 2.x, the command `5 / 11` would output zero."
      ]
    },
    {
      "cell_type": "code",
      "metadata": {
        "id": "msOx7ga_U5yF"
      },
      "source": [
        "-12 // 5  # What will this output?  Guess before evaluating!"
      ],
      "execution_count": null,
      "outputs": []
    },
    {
      "cell_type": "markdown",
      "metadata": {
        "id": "6m4OcRYfU5yG"
      },
      "source": [
        "Why use integer division `//` and why use floating point division?  In practice, integer division is typically a faster operation.  So if you only need the rounded result (and that will often be the case), use integer division.  It will run much faster than carrying out floating point division then manually rounding down.\n",
        "\n",
        "Observe that floating point operations involve approximation.  The result of `5.0/11.0` might not be what you expect in the last digit.  Over time, especially with repeated operations, *floating point approximation* errors can add up!"
      ]
    },
    {
      "cell_type": "markdown",
      "metadata": {
        "id": "uAyV-QWrU5yG"
      },
      "source": [
        "You might be wondering about the little [XX] and [XX] prompts in the code cells above.  What is their purpose?  Guess what the following line will do."
      ]
    },
    {
      "cell_type": "code",
      "metadata": {
        "id": "vgnp3B3JU5yG",
        "colab": {
          "base_uri": "https://localhost:8080/"
        },
        "outputId": "e238010f-1c38-44b3-eeeb-b6b9613126f5"
      },
      "source": [
        "Out[4] + Out[5]"
      ],
      "execution_count": null,
      "outputs": [
        {
          "output_type": "execute_result",
          "data": {
            "text/plain": [
              "-5.545454545454546"
            ]
          },
          "metadata": {
            "tags": []
          },
          "execution_count": 9
        }
      ]
    },
    {
      "cell_type": "markdown",
      "metadata": {
        "id": "GgS8uA14U5yG"
      },
      "source": [
        "Cool, huh?  It's nice to have a record of previous computations, especially if you don't want to type something again.\n",
        "\n",
        "Python allows you to group expressions with parentheses, and follows the order of operations that you learn in school."
      ]
    },
    {
      "cell_type": "code",
      "metadata": {
        "id": "kE_p7LcGU5yG",
        "colab": {
          "base_uri": "https://localhost:8080/"
        },
        "outputId": "f4f31270-cdcc-4197-b531-b05ab360dc0f"
      },
      "source": [
        "(3 + 4) * 5"
      ],
      "execution_count": null,
      "outputs": [
        {
          "output_type": "execute_result",
          "data": {
            "text/plain": [
              "35"
            ]
          },
          "metadata": {
            "tags": []
          },
          "execution_count": 10
        }
      ]
    },
    {
      "cell_type": "code",
      "metadata": {
        "id": "n-hUvTxHU5yG",
        "colab": {
          "base_uri": "https://localhost:8080/"
        },
        "outputId": "206c9acd-679e-438d-f64e-b149ac07743e"
      },
      "source": [
        "3 + (4 * 5)"
      ],
      "execution_count": null,
      "outputs": [
        {
          "output_type": "execute_result",
          "data": {
            "text/plain": [
              "23"
            ]
          },
          "metadata": {
            "tags": []
          },
          "execution_count": 11
        }
      ]
    },
    {
      "cell_type": "code",
      "metadata": {
        "id": "3E_z7E81U5yG",
        "colab": {
          "base_uri": "https://localhost:8080/"
        },
        "outputId": "0f9901f6-9a13-4ae4-a8bb-6c28409eafa1"
      },
      "source": [
        "3 + 4 * 5   #  What do you think will be the result?  Remember PEMDAS?"
      ],
      "execution_count": null,
      "outputs": [
        {
          "output_type": "execute_result",
          "data": {
            "text/plain": [
              "23"
            ]
          },
          "metadata": {
            "tags": []
          },
          "execution_count": 12
        }
      ]
    },
    {
      "cell_type": "markdown",
      "metadata": {
        "id": "lIFwbvWsU5yG"
      },
      "source": [
        "Now is a good time to try a few computations of your own, in the empty cell below.  You can type any Python commands you want in the empty cell.  If you want to insert a new cell into this notebook, just hover your cursor in the space between cells in Colab."
      ]
    },
    {
      "cell_type": "code",
      "metadata": {
        "id": "Rc5Lv9wLU5yH",
        "colab": {
          "base_uri": "https://localhost:8080/"
        },
        "outputId": "fab9048c-a5f9-442f-ceb8-e4c7a089e694"
      },
      "source": [
        "#  An empty cell.  Have fun!\n",
        "27//9"
      ],
      "execution_count": null,
      "outputs": [
        {
          "output_type": "execute_result",
          "data": {
            "text/plain": [
              "3"
            ]
          },
          "metadata": {
            "tags": []
          },
          "execution_count": 13
        }
      ]
    },
    {
      "cell_type": "markdown",
      "metadata": {
        "id": "OkWlZNSSU5yH"
      },
      "source": [
        "For number theory, *division with remainder* is an operation of central importance.  Integer division provides the quotient, and the operation `%` provides the remainder.  It's a bit strange that the percent symbol is used for the remainder, but this [dates at least to the early 1970s](https://softwareengineering.stackexchange.com/questions/294297/in-what-programming-language-did-the-use-of-the-percent-sign-to-mean-modulo) and has become standard across computer languages."
      ]
    },
    {
      "cell_type": "code",
      "metadata": {
        "id": "xTWOi_XxU5yH",
        "colab": {
          "base_uri": "https://localhost:8080/"
        },
        "outputId": "c1127cd3-f112-4de7-d98c-d71f89b078b6"
      },
      "source": [
        "23 // 5  # Integer division"
      ],
      "execution_count": null,
      "outputs": [
        {
          "output_type": "execute_result",
          "data": {
            "text/plain": [
              "4"
            ]
          },
          "metadata": {
            "tags": []
          },
          "execution_count": 14
        }
      ]
    },
    {
      "cell_type": "code",
      "metadata": {
        "id": "UNjARp_xU5yH",
        "colab": {
          "base_uri": "https://localhost:8080/"
        },
        "outputId": "80d439a1-508d-4d13-977c-df907494a177"
      },
      "source": [
        "23 % 5  # The remainder after division"
      ],
      "execution_count": null,
      "outputs": [
        {
          "output_type": "execute_result",
          "data": {
            "text/plain": [
              "3"
            ]
          },
          "metadata": {
            "tags": []
          },
          "execution_count": 15
        }
      ]
    },
    {
      "cell_type": "markdown",
      "metadata": {
        "id": "WFrRvFgkU5yH"
      },
      "source": [
        "Note in the code above, there are little \"comments\".  To place a short comment on a line of code, just put a hashtag `#` at the end of the line of code, followed by your comment.\n",
        "\n",
        "Python gives a single command for division with remainder.  Its output is a *tuple*."
      ]
    },
    {
      "cell_type": "code",
      "metadata": {
        "id": "F2zJS-tRU5yH",
        "colab": {
          "base_uri": "https://localhost:8080/"
        },
        "outputId": "8ef5b653-18b0-4ecf-896d-bd89628c87c3"
      },
      "source": [
        "divmod(23,5)"
      ],
      "execution_count": null,
      "outputs": [
        {
          "output_type": "execute_result",
          "data": {
            "text/plain": [
              "(4, 3)"
            ]
          },
          "metadata": {
            "tags": []
          },
          "execution_count": 16
        }
      ]
    },
    {
      "cell_type": "code",
      "metadata": {
        "id": "y3dckm2dU5yH",
        "colab": {
          "base_uri": "https://localhost:8080/"
        },
        "outputId": "507c8002-f076-4b18-ad17-b0384c940907"
      },
      "source": [
        "type(divmod(23,5))"
      ],
      "execution_count": null,
      "outputs": [
        {
          "output_type": "execute_result",
          "data": {
            "text/plain": [
              "tuple"
            ]
          },
          "metadata": {
            "tags": []
          },
          "execution_count": 17
        }
      ]
    },
    {
      "cell_type": "markdown",
      "metadata": {
        "id": "0qVUgNJ2U5yH"
      },
      "source": [
        "All data in Python has a type, but a common complaint about Python is that types are a bit concealed \"under the hood\".  But they are not far under the hood!  Anyone can find out the type of some data with a single command."
      ]
    },
    {
      "cell_type": "code",
      "metadata": {
        "id": "TU1Cho4tU5yI",
        "colab": {
          "base_uri": "https://localhost:8080/"
        },
        "outputId": "60a69885-8d6f-4d9a-efb3-37b214719f3e"
      },
      "source": [
        "type(3)"
      ],
      "execution_count": null,
      "outputs": [
        {
          "output_type": "execute_result",
          "data": {
            "text/plain": [
              "int"
            ]
          },
          "metadata": {
            "tags": []
          },
          "execution_count": 18
        }
      ]
    },
    {
      "cell_type": "code",
      "metadata": {
        "id": "OYALDWO5U5yI",
        "colab": {
          "base_uri": "https://localhost:8080/"
        },
        "outputId": "f5c7964d-af6d-4d65-9bf2-12b5cc6952cc"
      },
      "source": [
        "type(3.0)"
      ],
      "execution_count": null,
      "outputs": [
        {
          "output_type": "execute_result",
          "data": {
            "text/plain": [
              "float"
            ]
          },
          "metadata": {
            "tags": []
          },
          "execution_count": 19
        }
      ]
    },
    {
      "cell_type": "code",
      "metadata": {
        "id": "SHQ-_qcHU5yI",
        "colab": {
          "base_uri": "https://localhost:8080/"
        },
        "outputId": "d1165b89-6c4a-434e-9fcd-0e1e08fcaee9"
      },
      "source": [
        "type('Hello')"
      ],
      "execution_count": null,
      "outputs": [
        {
          "output_type": "execute_result",
          "data": {
            "text/plain": [
              "str"
            ]
          },
          "metadata": {
            "tags": []
          },
          "execution_count": 20
        }
      ]
    },
    {
      "cell_type": "code",
      "metadata": {
        "id": "nhf-YmD3U5yI",
        "colab": {
          "base_uri": "https://localhost:8080/"
        },
        "outputId": "95c95191-1b15-4845-bdff-843ce9c3982c"
      },
      "source": [
        "type([1,2,3])"
      ],
      "execution_count": null,
      "outputs": [
        {
          "output_type": "execute_result",
          "data": {
            "text/plain": [
              "list"
            ]
          },
          "metadata": {
            "tags": []
          },
          "execution_count": 21
        }
      ]
    },
    {
      "cell_type": "markdown",
      "metadata": {
        "id": "tYWDszLmU5yI"
      },
      "source": [
        "The key to careful computation in Python is always being *aware of the type* of your data, and *knowing* how Python operates differently on data of different types."
      ]
    },
    {
      "cell_type": "code",
      "metadata": {
        "id": "Uc7eYJLWU5yI",
        "colab": {
          "base_uri": "https://localhost:8080/"
        },
        "outputId": "9f198e4b-f1af-4be4-e468-ac446b869c60"
      },
      "source": [
        "3 + 3"
      ],
      "execution_count": null,
      "outputs": [
        {
          "output_type": "execute_result",
          "data": {
            "text/plain": [
              "6"
            ]
          },
          "metadata": {
            "tags": []
          },
          "execution_count": 22
        }
      ]
    },
    {
      "cell_type": "code",
      "metadata": {
        "id": "jv6N6XLQU5yI",
        "colab": {
          "base_uri": "https://localhost:8080/"
        },
        "outputId": "b1cd4dd2-1bcb-4fc7-e4f5-11fa506a6d62"
      },
      "source": [
        "3.0 + 3.0"
      ],
      "execution_count": null,
      "outputs": [
        {
          "output_type": "execute_result",
          "data": {
            "text/plain": [
              "6.0"
            ]
          },
          "metadata": {
            "tags": []
          },
          "execution_count": 23
        }
      ]
    },
    {
      "cell_type": "code",
      "metadata": {
        "id": "KKF4Sv-jU5yI",
        "colab": {
          "base_uri": "https://localhost:8080/",
          "height": 36
        },
        "outputId": "25981be0-5f8d-41b9-b9e3-1d5be4c09d43"
      },
      "source": [
        "'Hello' + 'World!'"
      ],
      "execution_count": null,
      "outputs": [
        {
          "output_type": "execute_result",
          "data": {
            "application/vnd.google.colaboratory.intrinsic+json": {
              "type": "string"
            },
            "text/plain": [
              "'HelloWorld!'"
            ]
          },
          "metadata": {
            "tags": []
          },
          "execution_count": 24
        }
      ]
    },
    {
      "cell_type": "code",
      "metadata": {
        "id": "q9H__Z99U5yI",
        "colab": {
          "base_uri": "https://localhost:8080/"
        },
        "outputId": "1fe498e3-b7fe-40d8-e3e9-cdf18dee54e6"
      },
      "source": [
        "[1,2,3] + [4,5,6]"
      ],
      "execution_count": null,
      "outputs": [
        {
          "output_type": "execute_result",
          "data": {
            "text/plain": [
              "[1, 2, 3, 4, 5, 6]"
            ]
          },
          "metadata": {
            "tags": []
          },
          "execution_count": 25
        }
      ]
    },
    {
      "cell_type": "code",
      "metadata": {
        "id": "NDDAxeQJU5yJ",
        "colab": {
          "base_uri": "https://localhost:8080/"
        },
        "outputId": "7029c602-c6e1-408d-df01-72a3363dbd7f"
      },
      "source": [
        "3 + 3.0"
      ],
      "execution_count": null,
      "outputs": [
        {
          "output_type": "execute_result",
          "data": {
            "text/plain": [
              "6.0"
            ]
          },
          "metadata": {
            "tags": []
          },
          "execution_count": 26
        }
      ]
    },
    {
      "cell_type": "code",
      "metadata": {
        "id": "xuBj_w9_U5yJ",
        "colab": {
          "base_uri": "https://localhost:8080/",
          "height": 172
        },
        "outputId": "2099cb5f-5fee-477c-d68c-08f3528edb13"
      },
      "source": [
        "3 + 'Hello!'  # Uh oh!"
      ],
      "execution_count": null,
      "outputs": [
        {
          "output_type": "error",
          "ename": "TypeError",
          "evalue": "ignored",
          "traceback": [
            "\u001b[0;31m---------------------------------------------------------------------------\u001b[0m",
            "\u001b[0;31mTypeError\u001b[0m                                 Traceback (most recent call last)",
            "\u001b[0;32m<ipython-input-27-dacf80a979a3>\u001b[0m in \u001b[0;36m<module>\u001b[0;34m()\u001b[0m\n\u001b[0;32m----> 1\u001b[0;31m \u001b[0;36m3\u001b[0m \u001b[0;34m+\u001b[0m \u001b[0;34m'Hello!'\u001b[0m  \u001b[0;31m# Uh oh!\u001b[0m\u001b[0;34m\u001b[0m\u001b[0;34m\u001b[0m\u001b[0m\n\u001b[0m",
            "\u001b[0;31mTypeError\u001b[0m: unsupported operand type(s) for +: 'int' and 'str'"
          ]
        }
      ]
    },
    {
      "cell_type": "code",
      "metadata": {
        "id": "9P7roKZgU5yJ",
        "colab": {
          "base_uri": "https://localhost:8080/"
        },
        "outputId": "31694b93-1742-47d3-c0db-cec8e535a33d"
      },
      "source": [
        "#  An empty cell.  Have fun!\n",
        "#  Try operating on ints, floats, and strings, with different operations.  Which ones work?  How?\n",
        "[1.0,2.0,3.0]+[2.0,5.0]"
      ],
      "execution_count": null,
      "outputs": [
        {
          "output_type": "execute_result",
          "data": {
            "text/plain": [
              "[1.0, 2.0, 3.0, 2.0, 5.0]"
            ]
          },
          "metadata": {
            "tags": []
          },
          "execution_count": 28
        }
      ]
    },
    {
      "cell_type": "markdown",
      "metadata": {
        "id": "1_2D8-NFU5yJ"
      },
      "source": [
        "As you can see, addition (the `+` operator) is interpreted differently in the contexts of numbers, strings, and lists.  The designers of Python allowed us to add *numbers* of different types:  if you try to operate on an *int* and a *float*, the *int* will typically be *coerced* into a float in order to perform the operation.  But the designers of Python did not give meaning to the addition of a number with a string, for example.  That's why you probably received a *TypeError* after trying to add a number to a string. \n",
        "\n",
        "On the other hand, Python does interpret *multiplication* of a natural number with a string or a list."
      ]
    },
    {
      "cell_type": "code",
      "metadata": {
        "id": "MmRfXepMU5yJ",
        "colab": {
          "base_uri": "https://localhost:8080/",
          "height": 36
        },
        "outputId": "c5d3ffaa-a0b7-4631-876e-8f4ace0801bc"
      },
      "source": [
        "3 * 'Hello!'"
      ],
      "execution_count": null,
      "outputs": [
        {
          "output_type": "execute_result",
          "data": {
            "application/vnd.google.colaboratory.intrinsic+json": {
              "type": "string"
            },
            "text/plain": [
              "'Hello!Hello!Hello!'"
            ]
          },
          "metadata": {
            "tags": []
          },
          "execution_count": 29
        }
      ]
    },
    {
      "cell_type": "code",
      "metadata": {
        "id": "gVo2bjWzU5yJ",
        "colab": {
          "base_uri": "https://localhost:8080/",
          "height": 36
        },
        "outputId": "adbaf089-41ae-47af-edc0-a4b25dc8f18d"
      },
      "source": [
        "0 * 'Hello!'"
      ],
      "execution_count": null,
      "outputs": [
        {
          "output_type": "execute_result",
          "data": {
            "application/vnd.google.colaboratory.intrinsic+json": {
              "type": "string"
            },
            "text/plain": [
              "''"
            ]
          },
          "metadata": {
            "tags": []
          },
          "execution_count": 30
        }
      ]
    },
    {
      "cell_type": "code",
      "metadata": {
        "id": "OqWWK6VWU5yJ",
        "colab": {
          "base_uri": "https://localhost:8080/"
        },
        "outputId": "e2e65729-75d6-4c7b-fd35-6e59669c6021"
      },
      "source": [
        "2 * [1,2,3]"
      ],
      "execution_count": null,
      "outputs": [
        {
          "output_type": "execute_result",
          "data": {
            "text/plain": [
              "[1, 2, 3, 1, 2, 3]"
            ]
          },
          "metadata": {
            "tags": []
          },
          "execution_count": 31
        }
      ]
    },
    {
      "cell_type": "markdown",
      "metadata": {
        "id": "Z28hpoAjU5yJ"
      },
      "source": [
        "Can you create a string with 100 A's (like `AAA...`)?  Use an appropriate operation in the cell below."
      ]
    },
    {
      "cell_type": "code",
      "metadata": {
        "id": "fAxwL5O3U5yJ",
        "colab": {
          "base_uri": "https://localhost:8080/",
          "height": 36
        },
        "outputId": "a29d2f96-1e57-4792-cc2a-5f0dab66125e"
      },
      "source": [
        "#  Practice cell\n",
        "100 * 'A'"
      ],
      "execution_count": null,
      "outputs": [
        {
          "output_type": "execute_result",
          "data": {
            "application/vnd.google.colaboratory.intrinsic+json": {
              "type": "string"
            },
            "text/plain": [
              "'AAAAAAAAAAAAAAAAAAAAAAAAAAAAAAAAAAAAAAAAAAAAAAAAAAAAAAAAAAAAAAAAAAAAAAAAAAAAAAAAAAAAAAAAAAAAAAAAAAAA'"
            ]
          },
          "metadata": {
            "tags": []
          },
          "execution_count": 32
        }
      ]
    },
    {
      "cell_type": "markdown",
      "metadata": {
        "id": "nHp8b6_8U5yJ"
      },
      "source": [
        "Exponents in Python are given by the `**` operator.  The following lines compute 2 to the 1000th power, in two different ways."
      ]
    },
    {
      "cell_type": "code",
      "metadata": {
        "id": "VNDmF-hcU5yK",
        "colab": {
          "base_uri": "https://localhost:8080/"
        },
        "outputId": "0cd6b6ab-a6db-42b1-868b-2a0154fe5801"
      },
      "source": [
        "2**1000"
      ],
      "execution_count": null,
      "outputs": [
        {
          "output_type": "execute_result",
          "data": {
            "text/plain": [
              "10715086071862673209484250490600018105614048117055336074437503883703510511249361224931983788156958581275946729175531468251871452856923140435984577574698574803934567774824230985421074605062371141877954182153046474983581941267398767559165543946077062914571196477686542167660429831652624386837205668069376"
            ]
          },
          "metadata": {
            "tags": []
          },
          "execution_count": 33
        }
      ]
    },
    {
      "cell_type": "code",
      "metadata": {
        "id": "DEHGNQ3RU5yK",
        "colab": {
          "base_uri": "https://localhost:8080/"
        },
        "outputId": "f0c8a249-4e98-4866-a8df-67f82f83f10b"
      },
      "source": [
        "2.0**1000"
      ],
      "execution_count": null,
      "outputs": [
        {
          "output_type": "execute_result",
          "data": {
            "text/plain": [
              "1.0715086071862673e+301"
            ]
          },
          "metadata": {
            "tags": []
          },
          "execution_count": 34
        }
      ]
    },
    {
      "cell_type": "markdown",
      "metadata": {
        "id": "O1bSyFFJU5yK"
      },
      "source": [
        "As before, Python interprets an operation (`**`) differently in different contexts.  When given integer input, Python evaluates `2**1000` **exactly**.  The result is a large integer.  A nice fact about Python, for mathematicians, is that it handles exact integers of arbitrary length!  Many other programming languages (like C++) will give an error message if integers get too large in the midst of a computation.  \n",
        "\n",
        "New in version 3.x, Python implements long integers without giving signals to the programmer or changing types.  In Python 2.x, there were two types: *int* for somewhat small integers (e.g., up to $2^{31}$) and *long* type for all larger integers.  Python 2.x would signal which type of integer was being used, by placing the letter \"L\" at the end of a long integer.  Now, in Python 3.x, the programmer doesn't really see the difference.  There is only the *int* type.  But Python still optimizes computations, using hardware functionality for arithmetic of small integers and custom routines for large integers.  The programmer doesn't have to worry about it most of the time.\n",
        "\n",
        "For scientific applications, one often wants to keep track of only a certain number of significant digits (sig figs).  If one computes the floating point exponent `2.0**1000`, the result is a decimal approximation.  It is still a float.  The expression \"e+301\" stands for \"multiplied by 10 to the 301st power\", i.e., Python uses *scientific notation* for large floats."
      ]
    },
    {
      "cell_type": "code",
      "metadata": {
        "id": "gbiP5lpxU5yK",
        "colab": {
          "base_uri": "https://localhost:8080/"
        },
        "outputId": "68d4708c-8684-4194-a16e-52b4fff143f4"
      },
      "source": [
        "type(2**1000)"
      ],
      "execution_count": null,
      "outputs": [
        {
          "output_type": "execute_result",
          "data": {
            "text/plain": [
              "int"
            ]
          },
          "metadata": {
            "tags": []
          },
          "execution_count": 35
        }
      ]
    },
    {
      "cell_type": "code",
      "metadata": {
        "id": "oYFQ7ZxFU5yL",
        "colab": {
          "base_uri": "https://localhost:8080/"
        },
        "outputId": "8f8e78cd-cc26-4693-9601-2f5ab7d05793"
      },
      "source": [
        "type(2.0**1000)"
      ],
      "execution_count": null,
      "outputs": [
        {
          "output_type": "execute_result",
          "data": {
            "text/plain": [
              "float"
            ]
          },
          "metadata": {
            "tags": []
          },
          "execution_count": 36
        }
      ]
    },
    {
      "cell_type": "code",
      "metadata": {
        "id": "MtmwQzLgU5yL",
        "colab": {
          "base_uri": "https://localhost:8080/",
          "height": 191
        },
        "outputId": "9f3572c1-2426-442c-ae90-228314f8558e"
      },
      "source": [
        "#  An empty cell.  Have fun!\n",
        "[1,2,3] / 3"
      ],
      "execution_count": null,
      "outputs": [
        {
          "output_type": "error",
          "ename": "TypeError",
          "evalue": "ignored",
          "traceback": [
            "\u001b[0;31m---------------------------------------------------------------------------\u001b[0m",
            "\u001b[0;31mTypeError\u001b[0m                                 Traceback (most recent call last)",
            "\u001b[0;32m<ipython-input-38-2073b2ca062c>\u001b[0m in \u001b[0;36m<module>\u001b[0;34m()\u001b[0m\n\u001b[1;32m      1\u001b[0m \u001b[0;31m#  An empty cell.  Have fun!\u001b[0m\u001b[0;34m\u001b[0m\u001b[0;34m\u001b[0m\u001b[0;34m\u001b[0m\u001b[0m\n\u001b[0;32m----> 2\u001b[0;31m \u001b[0;34m[\u001b[0m\u001b[0;36m1\u001b[0m\u001b[0;34m,\u001b[0m\u001b[0;36m2\u001b[0m\u001b[0;34m,\u001b[0m\u001b[0;36m3\u001b[0m\u001b[0;34m]\u001b[0m \u001b[0;34m/\u001b[0m \u001b[0;36m3\u001b[0m\u001b[0;34m\u001b[0m\u001b[0;34m\u001b[0m\u001b[0m\n\u001b[0m",
            "\u001b[0;31mTypeError\u001b[0m: unsupported operand type(s) for /: 'list' and 'int'"
          ]
        }
      ]
    },
    {
      "cell_type": "markdown",
      "metadata": {
        "id": "hu0LPXNLU5yL"
      },
      "source": [
        "Now is a good time for reflection.  Double-click in the cell below to answer the given questions.  Cells like this one are used for text rather than Python code.  Text is entered using *markdown*, but you can typically just enter text as you would in any text editor without problems.  Press *shift-Enter* after editing a text cell to complete the editing process.  "
      ]
    },
    {
      "cell_type": "markdown",
      "metadata": {
        "id": "QLyCVcXoU5yL"
      },
      "source": [
        "### Exercises\n",
        "\n",
        "1.  What data types have you seen, and what kinds of data are they used for?  Can you remember them without looking back?\n",
        "\n",
        "2.  How is division `/` interpreted differently for different types of data?\n",
        "\n",
        "3.  How is multiplication `*` interpreted differently for different types of data?\n",
        "\n",
        "4.  What is the difference between 100 and 100.0, for Python?"
      ]
    },
    {
      "cell_type": "markdown",
      "metadata": {
        "id": "KDzM72ZXU5yL"
      },
      "source": [
        "Double-click this text cell to edit it, and answer the exercises.  This may be graded, so please complete all questions!  Write in clear, complete, and concise sentences.\n",
        "\n",
        "1. Ints, Strings, Floats, Lists,Tuples. Ints are for rounded integers, Strings are for what seems to be mainly text, Floats are real numbers, Lists are kind of like sets, and Tuples are for division and remainders\n",
        "\n",
        "2. Division seems to be only useable when working with int or floats, not the others. For ints it will round to the nearest whole when dividing and floats will not.\n",
        "\n",
        "3. Multiplication works with all the types of data unlike division.\n",
        "\n",
        "4. 100 is an int, 100.0 is a float"
      ]
    },
    {
      "cell_type": "markdown",
      "metadata": {
        "id": "0jhkZ5zhU5yL"
      },
      "source": [
        "# Calculating with booleans"
      ]
    },
    {
      "cell_type": "markdown",
      "metadata": {
        "id": "IAb0HST5U5yM"
      },
      "source": [
        "A *boolean* (type *bool*) is the smallest possible piece of data.  While an *int* can be any integer, positive or negative, a *boolean* can only be one of two things:  *True* or *False*.  In this way, booleans are useful for storing the answers to yes/no questions.  \n",
        "\n",
        "Questions about (in)equality of numbers are answered in Python by *operations* with numerical input and boolean output.  Here are some examples.  A more complete reference is [in the official Python documentation](https://docs.python.org/3/library/stdtypes.html#boolean-operations-and-or-not)."
      ]
    },
    {
      "cell_type": "code",
      "metadata": {
        "id": "AqNG6PZBU5yM",
        "colab": {
          "base_uri": "https://localhost:8080/"
        },
        "outputId": "84e6377b-4a1d-4b0e-ceeb-2e3f165e358c"
      },
      "source": [
        "3 > 2"
      ],
      "execution_count": null,
      "outputs": [
        {
          "output_type": "execute_result",
          "data": {
            "text/plain": [
              "True"
            ]
          },
          "metadata": {
            "tags": []
          },
          "execution_count": 39
        }
      ]
    },
    {
      "cell_type": "code",
      "metadata": {
        "id": "nOgi4gqUU5yM",
        "colab": {
          "base_uri": "https://localhost:8080/"
        },
        "outputId": "21f20d7d-1649-46d1-889a-2672920c1429"
      },
      "source": [
        "type(3 > 2)"
      ],
      "execution_count": null,
      "outputs": [
        {
          "output_type": "execute_result",
          "data": {
            "text/plain": [
              "bool"
            ]
          },
          "metadata": {
            "tags": []
          },
          "execution_count": 40
        }
      ]
    },
    {
      "cell_type": "code",
      "metadata": {
        "id": "WabkpXPbU5yM",
        "colab": {
          "base_uri": "https://localhost:8080/"
        },
        "outputId": "936dc95c-2a8c-443f-b784-2aded3452a68"
      },
      "source": [
        "10 < 3"
      ],
      "execution_count": null,
      "outputs": [
        {
          "output_type": "execute_result",
          "data": {
            "text/plain": [
              "False"
            ]
          },
          "metadata": {
            "tags": []
          },
          "execution_count": 41
        }
      ]
    },
    {
      "cell_type": "code",
      "metadata": {
        "id": "Mohc3o5oU5yM",
        "colab": {
          "base_uri": "https://localhost:8080/"
        },
        "outputId": "a7f79c91-6046-4a0a-b360-d29dcd2ad6f7"
      },
      "source": [
        "2.4 < 2.4000001"
      ],
      "execution_count": null,
      "outputs": [
        {
          "output_type": "execute_result",
          "data": {
            "text/plain": [
              "True"
            ]
          },
          "metadata": {
            "tags": []
          },
          "execution_count": 42
        }
      ]
    },
    {
      "cell_type": "code",
      "metadata": {
        "id": "jnrzq17fU5yM",
        "colab": {
          "base_uri": "https://localhost:8080/"
        },
        "outputId": "56f0f125-b458-4669-950a-e648b07cfa04"
      },
      "source": [
        "32 >= 32"
      ],
      "execution_count": null,
      "outputs": [
        {
          "output_type": "execute_result",
          "data": {
            "text/plain": [
              "True"
            ]
          },
          "metadata": {
            "tags": []
          },
          "execution_count": 43
        }
      ]
    },
    {
      "cell_type": "code",
      "metadata": {
        "id": "D55td8J7U5yM",
        "colab": {
          "base_uri": "https://localhost:8080/"
        },
        "outputId": "781009d9-40e3-450c-de5d-616fd1a5b61b"
      },
      "source": [
        "32 >= 31"
      ],
      "execution_count": null,
      "outputs": [
        {
          "output_type": "execute_result",
          "data": {
            "text/plain": [
              "True"
            ]
          },
          "metadata": {
            "tags": []
          },
          "execution_count": 44
        }
      ]
    },
    {
      "cell_type": "code",
      "metadata": {
        "id": "L0RlreGLU5yM",
        "colab": {
          "base_uri": "https://localhost:8080/"
        },
        "outputId": "9a6eedb8-5a38-43cd-b3d6-17d64d21e0cf"
      },
      "source": [
        "2 + 2 == 4"
      ],
      "execution_count": null,
      "outputs": [
        {
          "output_type": "execute_result",
          "data": {
            "text/plain": [
              "True"
            ]
          },
          "metadata": {
            "tags": []
          },
          "execution_count": 45
        }
      ]
    },
    {
      "cell_type": "markdown",
      "metadata": {
        "id": "_f2QoYJ-U5yM"
      },
      "source": [
        "Which number is bigger:  $23^{32}$ or $32^{23}$?  Use the cell below to answer the question!"
      ]
    },
    {
      "cell_type": "code",
      "metadata": {
        "id": "PGlksxncU5yN",
        "colab": {
          "base_uri": "https://localhost:8080/"
        },
        "outputId": "173257e7-64cd-4a35-d5ac-4b882ca71c88"
      },
      "source": [
        "#  Write your code here.\n",
        "23**32 > 32**23"
      ],
      "execution_count": null,
      "outputs": [
        {
          "output_type": "execute_result",
          "data": {
            "text/plain": [
              "True"
            ]
          },
          "metadata": {
            "tags": []
          },
          "execution_count": 46
        }
      ]
    },
    {
      "cell_type": "markdown",
      "metadata": {
        "id": "KTiAVQ0qU5yN"
      },
      "source": [
        "The expressions `<`, `>`, `<=`, `>=` are interpreted here as **operations** with numerical input and boolean output.  The symbol `==` (two equal symbols!) gives a True result if the numbers are equal, and False if the numbers are not equal.  An extremely common typo is to confuse `=` with `==`.  But the single equality symbol `=` has an entirely different meaning, as we shall see."
      ]
    },
    {
      "cell_type": "markdown",
      "metadata": {
        "id": "3atYTyAnU5yN"
      },
      "source": [
        "Using the remainder operator `%` and equality, we obtain a divisibility test."
      ]
    },
    {
      "cell_type": "code",
      "metadata": {
        "id": "t1BCq6GFU5yN",
        "colab": {
          "base_uri": "https://localhost:8080/"
        },
        "outputId": "368b3702-5c89-4fe6-ee08-c6adeff12aab"
      },
      "source": [
        "63 % 7 == 0  # Is 63 divisible by 7?"
      ],
      "execution_count": null,
      "outputs": [
        {
          "output_type": "execute_result",
          "data": {
            "text/plain": [
              "True"
            ]
          },
          "metadata": {
            "tags": []
          },
          "execution_count": 47
        }
      ]
    },
    {
      "cell_type": "code",
      "metadata": {
        "id": "kYz8XfraU5yN",
        "colab": {
          "base_uri": "https://localhost:8080/"
        },
        "outputId": "c236c30a-92a6-49b9-fe0d-08d9e56409f5"
      },
      "source": [
        "101 % 2 == 0  # Is 101 even?"
      ],
      "execution_count": null,
      "outputs": [
        {
          "output_type": "execute_result",
          "data": {
            "text/plain": [
              "False"
            ]
          },
          "metadata": {
            "tags": []
          },
          "execution_count": 48
        }
      ]
    },
    {
      "cell_type": "markdown",
      "metadata": {
        "id": "0Iikx3JZU5yN"
      },
      "source": [
        "Use the cell below to determine whether 1234567890 is divisible by 3."
      ]
    },
    {
      "cell_type": "code",
      "metadata": {
        "id": "LPqBN_VlU5yN",
        "colab": {
          "base_uri": "https://localhost:8080/"
        },
        "outputId": "c61af565-56fa-4598-818c-52f4cdd77279"
      },
      "source": [
        "# Your code goes here.\n",
        "1234567890 % 3 == 0"
      ],
      "execution_count": null,
      "outputs": [
        {
          "output_type": "execute_result",
          "data": {
            "text/plain": [
              "True"
            ]
          },
          "metadata": {
            "tags": []
          },
          "execution_count": 49
        }
      ]
    },
    {
      "cell_type": "markdown",
      "metadata": {
        "id": "Tvle2bwdU5yN"
      },
      "source": [
        "Booleans can be operated on by the standard logical operations: and, or, not.  In ordinary English usage, \"and\" and \"or\" are conjunctions, while here in *Boolean algebra*, \"and\" and \"or\" are operations with Boolean inputs and Boolean output.  The precise meanings of \"and\" and \"or\" are given by the following **truth tables**.\n",
        "\n",
        "    \n",
        "| and | True | False |\n",
        "|-----|------|-------|\n",
        "| **True** | True | False |\n",
        "| **False** | False | False|\n",
        "\n",
        "<br>\n",
        "  \n",
        "| or | True | False |\n",
        "|-----|------|-------|\n",
        "| **True** | True | True |\n",
        "| **False** | True | False|"
      ]
    },
    {
      "cell_type": "code",
      "metadata": {
        "id": "eRo1A6IzU5yN",
        "colab": {
          "base_uri": "https://localhost:8080/"
        },
        "outputId": "c477f541-17d8-4737-ec6e-1f961f96d1ac"
      },
      "source": [
        "True and False"
      ],
      "execution_count": null,
      "outputs": [
        {
          "output_type": "execute_result",
          "data": {
            "text/plain": [
              "False"
            ]
          },
          "metadata": {
            "tags": []
          },
          "execution_count": 50
        }
      ]
    },
    {
      "cell_type": "code",
      "metadata": {
        "id": "sFMWK-0HU5yN",
        "colab": {
          "base_uri": "https://localhost:8080/"
        },
        "outputId": "7d6b3f4f-2497-4c43-81bf-f361e223e9d8"
      },
      "source": [
        "True or False"
      ],
      "execution_count": null,
      "outputs": [
        {
          "output_type": "execute_result",
          "data": {
            "text/plain": [
              "True"
            ]
          },
          "metadata": {
            "tags": []
          },
          "execution_count": 51
        }
      ]
    },
    {
      "cell_type": "code",
      "metadata": {
        "id": "5bREtxzOU5yN",
        "colab": {
          "base_uri": "https://localhost:8080/"
        },
        "outputId": "8fff1d6c-24b2-4199-ce28-235157cd287a"
      },
      "source": [
        "True or True"
      ],
      "execution_count": null,
      "outputs": [
        {
          "output_type": "execute_result",
          "data": {
            "text/plain": [
              "True"
            ]
          },
          "metadata": {
            "tags": []
          },
          "execution_count": 52
        }
      ]
    },
    {
      "cell_type": "code",
      "metadata": {
        "id": "DP0Rw6jDU5yO",
        "colab": {
          "base_uri": "https://localhost:8080/"
        },
        "outputId": "531dd0e0-3058-4bb3-ec09-8435eb7d4535"
      },
      "source": [
        "not True"
      ],
      "execution_count": null,
      "outputs": [
        {
          "output_type": "execute_result",
          "data": {
            "text/plain": [
              "False"
            ]
          },
          "metadata": {
            "tags": []
          },
          "execution_count": 53
        }
      ]
    },
    {
      "cell_type": "markdown",
      "metadata": {
        "id": "DRKe3Jv8U5yO"
      },
      "source": [
        "Use the truth tables to predict the result (True or False) of each of the following, before evaluating the code."
      ]
    },
    {
      "cell_type": "code",
      "metadata": {
        "id": "NVKb_6njU5yO",
        "colab": {
          "base_uri": "https://localhost:8080/"
        },
        "outputId": "9848b85c-47a9-442a-ef55-b40229537098"
      },
      "source": [
        "(2 > 3) and (3 > 2)"
      ],
      "execution_count": null,
      "outputs": [
        {
          "output_type": "execute_result",
          "data": {
            "text/plain": [
              "False"
            ]
          },
          "metadata": {
            "tags": []
          },
          "execution_count": 54
        }
      ]
    },
    {
      "cell_type": "code",
      "metadata": {
        "id": "JrprEal6U5yO",
        "colab": {
          "base_uri": "https://localhost:8080/"
        },
        "outputId": "99b74623-9ef3-4c57-e360-6cf332996443"
      },
      "source": [
        "(1 + 1 == 2) or (1 + 1 == 3)"
      ],
      "execution_count": null,
      "outputs": [
        {
          "output_type": "execute_result",
          "data": {
            "text/plain": [
              "True"
            ]
          },
          "metadata": {
            "tags": []
          },
          "execution_count": 55
        }
      ]
    },
    {
      "cell_type": "code",
      "metadata": {
        "scrolled": true,
        "id": "Ef-ryEGjU5yO",
        "colab": {
          "base_uri": "https://localhost:8080/"
        },
        "outputId": "8530eca6-86e0-490c-f6ff-731f5363c56e"
      },
      "source": [
        "not (-1 + 1 >= 0)"
      ],
      "execution_count": null,
      "outputs": [
        {
          "output_type": "execute_result",
          "data": {
            "text/plain": [
              "False"
            ]
          },
          "metadata": {
            "tags": []
          },
          "execution_count": 56
        }
      ]
    },
    {
      "cell_type": "code",
      "metadata": {
        "id": "FUSY_QuLU5yO",
        "colab": {
          "base_uri": "https://localhost:8080/"
        },
        "outputId": "44d35036-2198-41aa-d959-a9eb1a00e1ce"
      },
      "source": [
        "2 + 2 == 4"
      ],
      "execution_count": null,
      "outputs": [
        {
          "output_type": "execute_result",
          "data": {
            "text/plain": [
              "True"
            ]
          },
          "metadata": {
            "tags": []
          },
          "execution_count": 57
        }
      ]
    },
    {
      "cell_type": "code",
      "metadata": {
        "id": "hKTk4LjaU5yO",
        "colab": {
          "base_uri": "https://localhost:8080/"
        },
        "outputId": "c8c2d724-dc7e-4225-ac28-a561f6639945"
      },
      "source": [
        "2 + 2 != 4  # For \"not equal\", Python uses the operation `!=`."
      ],
      "execution_count": null,
      "outputs": [
        {
          "output_type": "execute_result",
          "data": {
            "text/plain": [
              "False"
            ]
          },
          "metadata": {
            "tags": []
          },
          "execution_count": 58
        }
      ]
    },
    {
      "cell_type": "code",
      "metadata": {
        "id": "UsJtoToLU5yO",
        "colab": {
          "base_uri": "https://localhost:8080/"
        },
        "outputId": "5dd1733b-c1d7-4e91-bbd3-2c86aaef482b"
      },
      "source": [
        "2 + 2 != 5  # Is 2+2 *not* equal to 5?"
      ],
      "execution_count": null,
      "outputs": [
        {
          "output_type": "execute_result",
          "data": {
            "text/plain": [
              "True"
            ]
          },
          "metadata": {
            "tags": []
          },
          "execution_count": 59
        }
      ]
    },
    {
      "cell_type": "code",
      "metadata": {
        "id": "tVfKlWT_U5yO",
        "colab": {
          "base_uri": "https://localhost:8080/"
        },
        "outputId": "a798bcde-84e6-45dd-b1ec-238be2f79e2e"
      },
      "source": [
        "not (2 + 2 == 5)  # The same as above, but a bit longer to write."
      ],
      "execution_count": null,
      "outputs": [
        {
          "output_type": "execute_result",
          "data": {
            "text/plain": [
              "True"
            ]
          },
          "metadata": {
            "tags": []
          },
          "execution_count": 60
        }
      ]
    },
    {
      "cell_type": "markdown",
      "metadata": {
        "id": "uwxFqT9uU5yO"
      },
      "source": [
        "Experiment below to see how Python handles a double or triple negative, i.e., something with a `not` `not`."
      ]
    },
    {
      "cell_type": "code",
      "metadata": {
        "id": "nD-RgY0CU5yP",
        "colab": {
          "base_uri": "https://localhost:8080/"
        },
        "outputId": "d213f0e6-8d0e-42f1-c9d9-bdf71ac8a0b7"
      },
      "source": [
        "# Experiment here.\n",
        "not not 2 == 3"
      ],
      "execution_count": null,
      "outputs": [
        {
          "output_type": "execute_result",
          "data": {
            "text/plain": [
              "False"
            ]
          },
          "metadata": {
            "tags": []
          },
          "execution_count": 61
        }
      ]
    },
    {
      "cell_type": "markdown",
      "metadata": {
        "id": "5xxO21m1U5yP"
      },
      "source": [
        "Python does give an interpretation to arithmetic operations with booleans and numbers.  Try to guess this interpretation with the following examples.  Change the examples to experiment!"
      ]
    },
    {
      "cell_type": "code",
      "metadata": {
        "id": "Y2lLPpdWU5yP",
        "colab": {
          "base_uri": "https://localhost:8080/"
        },
        "outputId": "a9900bc7-ce39-45b2-b4ff-0739214cb56d"
      },
      "source": [
        "False * 100"
      ],
      "execution_count": null,
      "outputs": [
        {
          "output_type": "execute_result",
          "data": {
            "text/plain": [
              "0"
            ]
          },
          "metadata": {
            "tags": []
          },
          "execution_count": 62
        }
      ]
    },
    {
      "cell_type": "code",
      "metadata": {
        "id": "5y3rtwrdU5yP",
        "colab": {
          "base_uri": "https://localhost:8080/"
        },
        "outputId": "72d5546c-f528-4cf8-b1a5-1f6382570a32"
      },
      "source": [
        "True + 13"
      ],
      "execution_count": null,
      "outputs": [
        {
          "output_type": "execute_result",
          "data": {
            "text/plain": [
              "14"
            ]
          },
          "metadata": {
            "tags": []
          },
          "execution_count": 63
        }
      ]
    },
    {
      "cell_type": "markdown",
      "metadata": {
        "id": "QOkU3A_fU5yP"
      },
      "source": [
        "This ability of Python to interpret operations based on context is a mixed blessing.  On one hand, it leads to handy shortcuts -- quick ways of writing complicated programs.  On the other hand, it can lead to code that is harder to read, especially for a Python novice.  Good programmers aim for code that is easy to read, not just short!\n",
        "\n",
        "The [Zen of Python](https://www.python.org/dev/peps/pep-0020/) is a series of 20 aphorisms for Python programmers.  The first seven are below.\n",
        "\n",
        "> Beautiful is better than ugly.\n",
        "\n",
        "> Explicit is better than implicit.\n",
        "\n",
        "> Simple is better than complex.\n",
        "\n",
        "> Complex is better than complicated.\n",
        "\n",
        "> Flat is better than nested.\n",
        "\n",
        "> Sparse is better than dense.\n",
        "\n",
        "> Readability counts."
      ]
    },
    {
      "cell_type": "markdown",
      "metadata": {
        "id": "_5mUQ1tCU5yP"
      },
      "source": [
        "### Exercises\n",
        "\n",
        "1.  Did you look at the truth tables closely?  Can you remember, from memory, what `True or False` equals, or what `True and False` equals?  \n",
        "\n",
        "2.  How might you easily remember the truth tables?  How do they resemble the standard English usage of the words \"and\" and \"or\"?\n",
        "\n",
        "3.  If you wanted to know whether a number, like 2349872348723, is a multiple of 7 but **not** a multiple of 11, how might you write this in one line of Python code?\n",
        "\n",
        "4.  You can chain together `and` commands, e.g., with an expression like `True and True and True` (which would evaluate to `True`).  You can also group booleans, e.g., with `True and (True or False)`.  Experiment to figure out the order of operations (`and`, `or`, `not`) for booleans.\n",
        "\n",
        "6.  The operation `xor` means \"exclusive or\".  Its truth table is: `True xor True = False` and `False xor False = False` and `True xor False = True` and `False xor True = True`.  How might you implement `xor` in terms of the usual `and`, `or`, and `not`?\n",
        "\n"
      ]
    },
    {
      "cell_type": "markdown",
      "metadata": {
        "id": "owWkn3ieU5yP"
      },
      "source": [
        "###  Solutions\n",
        "\n",
        "(Edit here to give solutions to the exercises)\n",
        "\n",
        "1. True or False is True, True and False is False\n",
        "\n",
        "2. Since I have worked with truth tables for so long I just remember them, so I am not sure what would be easy to remember them. They resemble the English usage of \"and\" and \"or\" as for two things that you can not do at the same time, say task A and task B, you can not do Task A and Task B, but you can do Task A or Task B, which the English language also does.\n",
        "\n",
        "3. 2349872348723 % 7 == 0 and 2349872348723 % 11 == 0\n",
        "\n",
        "4. And is the equivalent of multiplication, Or is the equivalent of addition, and Not is the equivalent of adding a negative sign\n",
        "\n",
        "5. A or B and not (A and B)"
      ]
    },
    {
      "cell_type": "markdown",
      "metadata": {
        "id": "k69tL17JU5yP"
      },
      "source": [
        "# Declaring variables"
      ]
    },
    {
      "cell_type": "markdown",
      "metadata": {
        "id": "UjI-5d00U5yP"
      },
      "source": [
        "A central feature of programming is the declaration of variables.  When you declare a variable, you are *storing* data in the computer's *memory* and you are assigning a *name* to that data.  Both storage and name-assignment are carried out with the *single* equality symbol =."
      ]
    },
    {
      "cell_type": "code",
      "metadata": {
        "id": "hkwJHNVpU5yQ"
      },
      "source": [
        "e = 2.71828"
      ],
      "execution_count": null,
      "outputs": []
    },
    {
      "cell_type": "markdown",
      "metadata": {
        "id": "gY-LejB4U5yQ"
      },
      "source": [
        "With this command, the float 2.71828 is stored somewhere inside your computer, and Python can access this stored number by the name \"e\" thereafter.  So if you want to compute \"e squared\", a single command will do."
      ]
    },
    {
      "cell_type": "code",
      "metadata": {
        "id": "2ZJ7VtIwU5yQ",
        "colab": {
          "base_uri": "https://localhost:8080/"
        },
        "outputId": "61dafe5c-2187-4abf-b6cf-2a327c53e92a"
      },
      "source": [
        "e * e"
      ],
      "execution_count": null,
      "outputs": [
        {
          "output_type": "execute_result",
          "data": {
            "text/plain": [
              "7.3890461584"
            ]
          },
          "metadata": {
            "tags": []
          },
          "execution_count": 66
        }
      ]
    },
    {
      "cell_type": "code",
      "metadata": {
        "id": "G46Ma5fCU5yQ",
        "colab": {
          "base_uri": "https://localhost:8080/"
        },
        "outputId": "bd1a1ff5-634f-46e8-c659-56146a7d323a"
      },
      "source": [
        "type(e)"
      ],
      "execution_count": null,
      "outputs": [
        {
          "output_type": "execute_result",
          "data": {
            "text/plain": [
              "float"
            ]
          },
          "metadata": {
            "tags": []
          },
          "execution_count": 67
        }
      ]
    },
    {
      "cell_type": "markdown",
      "metadata": {
        "id": "cWVyUzZxU5yQ"
      },
      "source": [
        "You can use just about any name you want for a variable, but your name *must* start with a letter, *must* not contain spaces, and your name *must* not be an existing Python word.  Characters in a variable name can include letters (uppercase and lowercase) and numbers and underscores `_`.  \n",
        "\n",
        "So `e` is a valid name for a variable, but `type` is a bad name.  It is very tempting for beginners to use very short abbreviation-style names for variables (like `dx` or `vbn`).  But resist that temptation and use more descriptive names for variables, like `difference_x` or `very_big_number`.  This will make your code readable by you and others!\n",
        "\n",
        "There are different style conventions for variable names.  We use lowercase names, with underscores separating words,  roughly following [Google's style conventions](https://google.github.io/styleguide/pyguide.html#Python_Style_Rules) for Python code."
      ]
    },
    {
      "cell_type": "code",
      "metadata": {
        "id": "yQN7N7ZPU5yQ"
      },
      "source": [
        "my_number = 17"
      ],
      "execution_count": null,
      "outputs": []
    },
    {
      "cell_type": "code",
      "metadata": {
        "id": "FitPq8UNU5yQ",
        "colab": {
          "base_uri": "https://localhost:8080/"
        },
        "outputId": "a2585657-4347-4188-d322-b3339eb3bd53"
      },
      "source": [
        "my_number < 23"
      ],
      "execution_count": null,
      "outputs": [
        {
          "output_type": "execute_result",
          "data": {
            "text/plain": [
              "True"
            ]
          },
          "metadata": {
            "tags": []
          },
          "execution_count": 69
        }
      ]
    },
    {
      "cell_type": "markdown",
      "metadata": {
        "id": "ne_mUsdnU5yQ"
      },
      "source": [
        "After you declare a variable, its value remains the same until it is changed.  You can change the value of a variable with a simple assignment.  After the above lines, the value of my_number is 17."
      ]
    },
    {
      "cell_type": "code",
      "metadata": {
        "id": "Eu-rHwt0U5yQ"
      },
      "source": [
        "my_number = 3.14"
      ],
      "execution_count": null,
      "outputs": []
    },
    {
      "cell_type": "markdown",
      "metadata": {
        "id": "cqgxOyyEU5yQ"
      },
      "source": [
        "This command reassigns the value of my_number to 3.14.  Note that it changes the type too!  It effectively overrides the previous value and replaces it with the new value.\n",
        "\n",
        "Often it is useful to change the value of a variable *incrementally* or *recursively*.  Python, like many programming languages, allows one to assign variables in a self-referential way.  What do you think the value of S will be after the following four lines?"
      ]
    },
    {
      "cell_type": "code",
      "metadata": {
        "id": "zW6_fRoxU5yR",
        "colab": {
          "base_uri": "https://localhost:8080/"
        },
        "outputId": "67b0d6b4-2acb-4354-f966-86b8561a6c30"
      },
      "source": [
        "S = 0\n",
        "S = S + 1\n",
        "S = S + 2\n",
        "S = S + 3\n",
        "print(S)"
      ],
      "execution_count": null,
      "outputs": [
        {
          "output_type": "stream",
          "text": [
            "6\n"
          ],
          "name": "stdout"
        }
      ]
    },
    {
      "cell_type": "markdown",
      "metadata": {
        "id": "cX1eo3jZU5yR"
      },
      "source": [
        "The first line `S = 0` is the initial declaration:  the value 0 is stored in memory, and the name S is assigned to this value.\n",
        "\n",
        "The next line `S = S + 1` looks like nonsense, as an algebraic sentence.  But reading = as **assignment** rather than **equality**, you should read the line `S = S + 1` as assigning the *value* `S + 1` to the *name* `S`.  When Python interprets `S = S + 1`, it carries out the following steps.\n",
        "\n",
        "1.  Compute the value of the right side, `S+1`.  (The value is 1, since `S` was assigned the value 0 in the previous line.)\n",
        "2.  Assign this value to the left side, `S`.  (Now `S` has the value 1.)\n",
        "\n",
        "Well, this is a slight lie.  Python probably does something more efficient, when given the command `S = S + 1`, since such operations are hard-wired in the computer and the Python interpreter is smart enough to take the most efficient route.  But at this level, it is most useful to think of a self-referential assignment of the form `X = expression(X)` as a two step process as above.\n",
        "\n",
        "1.  Compute the value of `expression(X)`.\n",
        "2.  Assign this value to `X`."
      ]
    },
    {
      "cell_type": "markdown",
      "metadata": {
        "id": "82NT9vo2U5yR"
      },
      "source": [
        "Now consider the following three commands."
      ]
    },
    {
      "cell_type": "code",
      "metadata": {
        "id": "CbT40NiuU5yR"
      },
      "source": [
        "my_number = 17\n",
        "new_number = my_number + 1\n",
        "my_number = 3.14"
      ],
      "execution_count": null,
      "outputs": []
    },
    {
      "cell_type": "markdown",
      "metadata": {
        "id": "yQz42J2dU5yR"
      },
      "source": [
        "What are the values of the variables my_number and new_number, after the execution of these three lines?\n",
        "\n",
        "To access these values, you can use the *print* function."
      ]
    },
    {
      "cell_type": "code",
      "metadata": {
        "id": "5J4rfa08U5yR",
        "colab": {
          "base_uri": "https://localhost:8080/"
        },
        "outputId": "6b008041-6c83-42b9-87be-aac3591dc8e6"
      },
      "source": [
        "print(my_number)\n",
        "print(new_number)"
      ],
      "execution_count": null,
      "outputs": [
        {
          "output_type": "stream",
          "text": [
            "3.14\n",
            "18\n"
          ],
          "name": "stdout"
        }
      ]
    },
    {
      "cell_type": "markdown",
      "metadata": {
        "id": "DbEoFnjnU5yR"
      },
      "source": [
        "Python is an *interpreted* language, which carries out commands line-by-line from top to bottom.  So consider the three lines\n",
        "\n",
        "``` python\n",
        "my_number = 17\n",
        "new_number = my_number + 1\n",
        "my_number = 3.14\n",
        "```\n",
        "\n",
        "Line 1 sets the value of my_number to 17.  Line 2 sets the value of new_number to 18.  Line 3 sets the value of my_number to 3.14.  But Line 3 does *not* change the value of new_number at all.\n",
        "\n",
        "(This will become confusing and complicated later, as we study mutable and immutable types.)"
      ]
    },
    {
      "cell_type": "markdown",
      "metadata": {
        "id": "PFA4Q7SiU5yR"
      },
      "source": [
        "### Exercises\n",
        "\n",
        "1.  What is the difference between `=` and `==` in the Python language?\n",
        "\n",
        "2.  If the variable `x` has value `3`, and you then evaluate the Python command `x = x * x`, what will be the value of `x` after evaluation?\n",
        "\n",
        "3.  Imagine you have two variables `a` and `b`, and you want to switch their values.  How could you do this in Python?\n",
        "\n",
        "4.  Kepler's third law states that for a planet in circular orbit around an object of mass $M$, one has $4 \\pi^2 r^3 = G M t^2$.  We can use this to estimate the mass of the sun, from other astronomically observable quantities.  Look up $G$ (the gravitational constant, estimated by experiment on Earth) and $r$ (the distance from the Earth to the sun, in meters).  Compute $t$, the number of seconds it takes for the Earth to go around the sun (365.25 days).  Finally use all of this to estimate $M$, the mass of the sun.  Your solution should use 5-10 lines of Python code."
      ]
    },
    {
      "cell_type": "markdown",
      "metadata": {
        "id": "sIeJz7hUU5yR"
      },
      "source": [
        "### Solutions\n",
        "\n",
        "(Use this space to work on the exercises.  Place more code and text cells above as needed.)\n",
        "\n",
        "1. = sets a variable equal to something, == checks to see if two values are equal\n",
        "\n",
        "2. 9\n",
        "\n",
        "3. a = c  \n",
        "   b = a   \n",
        "   c = b    \n",
        "4. r = 149600000000.0 \n",
        "  \n",
        "   G =  6.67e-11 \n",
        "  \n",
        "   t = 365.25*24*60*60 \n",
        "\n",
        "   pi = 3.1415\n",
        "  \n",
        "   M = (4*(pi**2)*r**3)/(G*t**2)"
      ]
    },
    {
      "cell_type": "markdown",
      "metadata": {
        "id": "b81C2aIPU5yS"
      },
      "source": [
        "# Lists and ranges"
      ]
    },
    {
      "cell_type": "markdown",
      "metadata": {
        "id": "iZoKvbn0U5yS"
      },
      "source": [
        "Python stands out for the central role played by *lists*.  A *list* is what it sounds like -- a list of data.  Data within a list can be of any type.  Multiple types are possible within the same list!  The basic syntax for a list is to use brackets to enclose the list items and commas to separate the list items."
      ]
    },
    {
      "cell_type": "code",
      "metadata": {
        "id": "MQRMJWrgU5yS",
        "colab": {
          "base_uri": "https://localhost:8080/"
        },
        "outputId": "6ee052d0-154d-45bc-b939-2c9819fd52ef"
      },
      "source": [
        "type([1,2,3])"
      ],
      "execution_count": null,
      "outputs": [
        {
          "output_type": "execute_result",
          "data": {
            "text/plain": [
              "list"
            ]
          },
          "metadata": {
            "tags": []
          },
          "execution_count": 74
        }
      ]
    },
    {
      "cell_type": "code",
      "metadata": {
        "id": "BkTCBWhsU5yS",
        "colab": {
          "base_uri": "https://localhost:8080/"
        },
        "outputId": "0707f7f1-c1ef-4dee-f608-d9c04dc42ea7"
      },
      "source": [
        "type(['Hello',17])"
      ],
      "execution_count": null,
      "outputs": [
        {
          "output_type": "execute_result",
          "data": {
            "text/plain": [
              "list"
            ]
          },
          "metadata": {
            "tags": []
          },
          "execution_count": 75
        }
      ]
    },
    {
      "cell_type": "markdown",
      "metadata": {
        "id": "DH51tlMvU5yS"
      },
      "source": [
        "There is another type called a *tuple* that we will use less often.  Tuples use parentheses for enclosure instead of brackets."
      ]
    },
    {
      "cell_type": "code",
      "metadata": {
        "id": "8m1KBuRNU5yS",
        "colab": {
          "base_uri": "https://localhost:8080/"
        },
        "outputId": "bb591b5e-44d3-4003-8f7f-4edec902ef17"
      },
      "source": [
        "type((1,2,3))"
      ],
      "execution_count": null,
      "outputs": [
        {
          "output_type": "execute_result",
          "data": {
            "text/plain": [
              "tuple"
            ]
          },
          "metadata": {
            "tags": []
          },
          "execution_count": 76
        }
      ]
    },
    {
      "cell_type": "markdown",
      "metadata": {
        "id": "sFZr5TtpU5yS"
      },
      "source": [
        "There's another list-like type in Python 3, called the `range` type.  Ranges are kind of like lists, but instead of plunking every item into a slot of memory, ranges just have to remember three integers:  their *start*, their *stop*, and their *step*.    \n",
        "\n",
        "The `range` command creates a range with a given start, stop, and step.  If you only input one number, the range will ***start at zero*** and use ***steps of one*** and will stop ***just before*** the given stop-number.\n",
        "\n",
        "One can create a list from a range (plunking every term in the range into a slot of memory), by using the `list` command.  Here are a few examples."
      ]
    },
    {
      "cell_type": "code",
      "metadata": {
        "id": "0N_HejMiU5yS",
        "colab": {
          "base_uri": "https://localhost:8080/"
        },
        "outputId": "5392bdf6-9d37-4a2a-92de-63941bb97b99"
      },
      "source": [
        "type(range(10)) # Ranges are their own type, in Python 3.x.  Not in Python 2.x!"
      ],
      "execution_count": null,
      "outputs": [
        {
          "output_type": "execute_result",
          "data": {
            "text/plain": [
              "range"
            ]
          },
          "metadata": {
            "tags": []
          },
          "execution_count": 77
        }
      ]
    },
    {
      "cell_type": "code",
      "metadata": {
        "id": "XzlQhL4eU5yS",
        "colab": {
          "base_uri": "https://localhost:8080/"
        },
        "outputId": "7cca418e-77d7-42d6-8bff-8ac064798cab"
      },
      "source": [
        "list(range(10)) # Let's see what's in the range.  Note it starts at zero!  Where does it stop?"
      ],
      "execution_count": null,
      "outputs": [
        {
          "output_type": "execute_result",
          "data": {
            "text/plain": [
              "[0, 1, 2, 3, 4, 5, 6, 7, 8, 9]"
            ]
          },
          "metadata": {
            "tags": []
          },
          "execution_count": 78
        }
      ]
    },
    {
      "cell_type": "markdown",
      "metadata": {
        "id": "7-TeavRKU5yS"
      },
      "source": [
        "A more complicated two-input form of the range command produces a range of integers **starting at** a given number, and **terminating before** another given number."
      ]
    },
    {
      "cell_type": "code",
      "metadata": {
        "id": "fpHHkb82U5yT",
        "colab": {
          "base_uri": "https://localhost:8080/"
        },
        "outputId": "c640204a-8d2b-4e7a-dd06-3d23c0318eab"
      },
      "source": [
        "list(range(3,10))"
      ],
      "execution_count": null,
      "outputs": [
        {
          "output_type": "execute_result",
          "data": {
            "text/plain": [
              "[3, 4, 5, 6, 7, 8, 9]"
            ]
          },
          "metadata": {
            "tags": []
          },
          "execution_count": 79
        }
      ]
    },
    {
      "cell_type": "code",
      "metadata": {
        "id": "O5A8XZFxU5yT",
        "colab": {
          "base_uri": "https://localhost:8080/"
        },
        "outputId": "696129e1-1f14-4b30-8fd6-205bb5652d55"
      },
      "source": [
        "list(range(-4,5))"
      ],
      "execution_count": null,
      "outputs": [
        {
          "output_type": "execute_result",
          "data": {
            "text/plain": [
              "[-4, -3, -2, -1, 0, 1, 2, 3, 4]"
            ]
          },
          "metadata": {
            "tags": []
          },
          "execution_count": 80
        }
      ]
    },
    {
      "cell_type": "markdown",
      "metadata": {
        "id": "dRzyphm5U5yT"
      },
      "source": [
        "This is a common source of difficulty for Python beginners.  While the first parameter (-4) is the starting point of the list, the list ends just before the second parameter (5).  This takes some getting used to, but experienced Python programmers grow to like this convention."
      ]
    },
    {
      "cell_type": "markdown",
      "metadata": {
        "id": "XderpNFAU5yT"
      },
      "source": [
        "The *length* of a list can be accessed by the len command."
      ]
    },
    {
      "cell_type": "code",
      "metadata": {
        "id": "-xjzFOxWU5yT",
        "colab": {
          "base_uri": "https://localhost:8080/"
        },
        "outputId": "c61aba2c-91b7-46ac-a717-40b7fdafda7b"
      },
      "source": [
        "len([2,4,6])"
      ],
      "execution_count": null,
      "outputs": [
        {
          "output_type": "execute_result",
          "data": {
            "text/plain": [
              "3"
            ]
          },
          "metadata": {
            "tags": []
          },
          "execution_count": 81
        }
      ]
    },
    {
      "cell_type": "code",
      "metadata": {
        "id": "1IG2dOJeU5yT",
        "colab": {
          "base_uri": "https://localhost:8080/"
        },
        "outputId": "539bd453-5e2d-4ba6-c6bb-f9f5a7719cca"
      },
      "source": [
        "len(range(10))  # The len command can deal with lists and ranges.  No need to convert."
      ],
      "execution_count": null,
      "outputs": [
        {
          "output_type": "execute_result",
          "data": {
            "text/plain": [
              "10"
            ]
          },
          "metadata": {
            "tags": []
          },
          "execution_count": 82
        }
      ]
    },
    {
      "cell_type": "code",
      "metadata": {
        "id": "N9lCN8-bU5yT",
        "colab": {
          "base_uri": "https://localhost:8080/"
        },
        "outputId": "8a6eed0b-f454-4ed6-f435-4aeb8a4083f7"
      },
      "source": [
        "len(range(10,100)) # Can you figure out the length, before evaluating?"
      ],
      "execution_count": null,
      "outputs": [
        {
          "output_type": "execute_result",
          "data": {
            "text/plain": [
              "90"
            ]
          },
          "metadata": {
            "tags": []
          },
          "execution_count": 83
        }
      ]
    },
    {
      "cell_type": "markdown",
      "metadata": {
        "id": "zW4aiYaAU5yT"
      },
      "source": [
        "The final variant of the range command (for now) is the *three-parameter* command of the form `range(a,b,s)`.  This produces a list like `range(a,b)`, but with a \"step size\" of `s`.  In other words, it produces a list of integers, beginning at `a`, increasing by `s` from one entry to the next, and going up to (but not including) `b`.  It is best to experiment a bit to get the feel for it!"
      ]
    },
    {
      "cell_type": "code",
      "metadata": {
        "id": "RjmZQRmtU5yT",
        "colab": {
          "base_uri": "https://localhost:8080/"
        },
        "outputId": "7d4f24e1-e6ac-4a09-9976-58511fdc2688"
      },
      "source": [
        "list(range(1,10,2))"
      ],
      "execution_count": null,
      "outputs": [
        {
          "output_type": "execute_result",
          "data": {
            "text/plain": [
              "[1, 3, 5, 7, 9]"
            ]
          },
          "metadata": {
            "tags": []
          },
          "execution_count": 84
        }
      ]
    },
    {
      "cell_type": "code",
      "metadata": {
        "id": "UX91kNpoU5yT",
        "colab": {
          "base_uri": "https://localhost:8080/"
        },
        "outputId": "bd6b67c5-76f1-46fe-c118-40c9af657a7b"
      },
      "source": [
        "list(range(11,30,2))"
      ],
      "execution_count": null,
      "outputs": [
        {
          "output_type": "execute_result",
          "data": {
            "text/plain": [
              "[11, 13, 15, 17, 19, 21, 23, 25, 27, 29]"
            ]
          },
          "metadata": {
            "tags": []
          },
          "execution_count": 85
        }
      ]
    },
    {
      "cell_type": "code",
      "metadata": {
        "id": "cU6TYerPU5yU",
        "colab": {
          "base_uri": "https://localhost:8080/"
        },
        "outputId": "cfa34bae-d303-48ed-cc93-3f74d87ffccc"
      },
      "source": [
        "list(range(-4,5,3))"
      ],
      "execution_count": null,
      "outputs": [
        {
          "output_type": "execute_result",
          "data": {
            "text/plain": [
              "[-4, -1, 2]"
            ]
          },
          "metadata": {
            "tags": []
          },
          "execution_count": 86
        }
      ]
    },
    {
      "cell_type": "code",
      "metadata": {
        "id": "_RueWhdHU5yU",
        "colab": {
          "base_uri": "https://localhost:8080/"
        },
        "outputId": "2a46c839-7838-47f9-85b7-a4446ee1fbe3"
      },
      "source": [
        "list(range(10,100,17))"
      ],
      "execution_count": null,
      "outputs": [
        {
          "output_type": "execute_result",
          "data": {
            "text/plain": [
              "[10, 27, 44, 61, 78, 95]"
            ]
          },
          "metadata": {
            "tags": []
          },
          "execution_count": 87
        }
      ]
    },
    {
      "cell_type": "markdown",
      "metadata": {
        "id": "I3otAH2AU5yU"
      },
      "source": [
        "This can be used for descending ranges too, and observe that the final number b in range(a,b,s) is not included."
      ]
    },
    {
      "cell_type": "code",
      "metadata": {
        "id": "LVm1djsTU5yU",
        "colab": {
          "base_uri": "https://localhost:8080/"
        },
        "outputId": "6497bfe0-25f5-4ca5-c208-a255b418bc50"
      },
      "source": [
        "list(range(10,0,-1))"
      ],
      "execution_count": null,
      "outputs": [
        {
          "output_type": "execute_result",
          "data": {
            "text/plain": [
              "[10, 9, 8, 7, 6, 5, 4, 3, 2, 1]"
            ]
          },
          "metadata": {
            "tags": []
          },
          "execution_count": 88
        }
      ]
    },
    {
      "cell_type": "markdown",
      "metadata": {
        "id": "Jp1V-X59U5yU"
      },
      "source": [
        "How many multiples of 7 are between 10 and 100?  We can find out pretty quickly with the range command and the len command (to count)."
      ]
    },
    {
      "cell_type": "code",
      "metadata": {
        "id": "roA4gLoXU5yU",
        "colab": {
          "base_uri": "https://localhost:8080/"
        },
        "outputId": "1269e6eb-6f3e-43d1-cc48-b4086f152c7d"
      },
      "source": [
        "list(range(10,100,7))  # What list will this create?  It won't answer the question..."
      ],
      "execution_count": null,
      "outputs": [
        {
          "output_type": "execute_result",
          "data": {
            "text/plain": [
              "[10, 17, 24, 31, 38, 45, 52, 59, 66, 73, 80, 87, 94]"
            ]
          },
          "metadata": {
            "tags": []
          },
          "execution_count": 89
        }
      ]
    },
    {
      "cell_type": "code",
      "metadata": {
        "id": "jybN-evPU5yU",
        "colab": {
          "base_uri": "https://localhost:8080/"
        },
        "outputId": "889c7a5c-26c5-47c9-f4fd-9672bfc86892"
      },
      "source": [
        "list(range(14,100,7))  # Starting at 14 gives the multiples of 7."
      ],
      "execution_count": null,
      "outputs": [
        {
          "output_type": "execute_result",
          "data": {
            "text/plain": [
              "[14, 21, 28, 35, 42, 49, 56, 63, 70, 77, 84, 91, 98]"
            ]
          },
          "metadata": {
            "tags": []
          },
          "execution_count": 90
        }
      ]
    },
    {
      "cell_type": "code",
      "metadata": {
        "id": "BdvLmGljU5yU"
      },
      "source": [
        "len(range(14,100,7))  # Gives the length of the list, and answers the question!"
      ],
      "execution_count": null,
      "outputs": []
    },
    {
      "cell_type": "markdown",
      "metadata": {
        "id": "dMbcJV5UU5yU"
      },
      "source": [
        "### Exercises\n",
        "\n",
        "1.  If `a` and `b` are integers, what is the length of `range(a,b)`?  Express your answer as a formula involving `a` and `b`.\n",
        "\n",
        "2.  Use a list and range command to produce the list `[1,2,3,4,5,6,7,8,9,10]`.\n",
        "\n",
        "3.  Create the list `[1,2,3,4,5,1,2,3,4,5,1,2,3,4,5,1,2,3,4,5,1,2,3,4,5]` with a single list and range command and another operation.\n",
        "\n",
        "4.  How many multiples of 3 are there between 300 and 3000 (including 300 and 3000)?"
      ]
    },
    {
      "cell_type": "code",
      "metadata": {
        "id": "4HKDVcFVU5yU"
      },
      "source": [
        "#  Use this space to work on the exercises.\n"
      ],
      "execution_count": null,
      "outputs": []
    },
    {
      "cell_type": "markdown",
      "metadata": {
        "id": "kHgyo61EFYBE"
      },
      "source": [
        "1.) Length = a - b"
      ]
    },
    {
      "cell_type": "code",
      "metadata": {
        "id": "GhnMQs9xFzQE",
        "colab": {
          "base_uri": "https://localhost:8080/"
        },
        "outputId": "d6017caf-fa6c-46b5-ef81-096f7b7132c1"
      },
      "source": [
        "list(range(1,11))"
      ],
      "execution_count": null,
      "outputs": [
        {
          "output_type": "execute_result",
          "data": {
            "text/plain": [
              "[1, 2, 3, 4, 5, 6, 7, 8, 9, 10]"
            ]
          },
          "metadata": {
            "tags": []
          },
          "execution_count": 93
        }
      ]
    },
    {
      "cell_type": "code",
      "metadata": {
        "id": "_dyxQ8oGFirC",
        "colab": {
          "base_uri": "https://localhost:8080/"
        },
        "outputId": "08579d16-833a-4934-b7fc-5a96777fbbae"
      },
      "source": [
        "5 * list(range(1,6))"
      ],
      "execution_count": null,
      "outputs": [
        {
          "output_type": "execute_result",
          "data": {
            "text/plain": [
              "[1, 2, 3, 4, 5, 1, 2, 3, 4, 5, 1, 2, 3, 4, 5, 1, 2, 3, 4, 5, 1, 2, 3, 4, 5]"
            ]
          },
          "metadata": {
            "tags": []
          },
          "execution_count": 92
        }
      ]
    },
    {
      "cell_type": "code",
      "metadata": {
        "id": "hQ3pGmeEF6UK",
        "colab": {
          "base_uri": "https://localhost:8080/"
        },
        "outputId": "f5809dec-3d8a-40d5-a3ec-489ee4e92383"
      },
      "source": [
        "len(range(300,3000,3))"
      ],
      "execution_count": null,
      "outputs": [
        {
          "output_type": "execute_result",
          "data": {
            "text/plain": [
              "900"
            ]
          },
          "metadata": {
            "tags": []
          },
          "execution_count": 94
        }
      ]
    },
    {
      "cell_type": "markdown",
      "metadata": {
        "id": "ccSW2BGyU5yV"
      },
      "source": [
        "# Iterating over a range"
      ]
    },
    {
      "cell_type": "markdown",
      "metadata": {
        "id": "qoOhvB1rU5yV"
      },
      "source": [
        "Computers are excellent at repetitive reliable tasks.  If we wish to perform a similar computation, many times over, a computer a great tool.  Here we look at a common and simple way to carry out a repetetive computation:  the \"for loop\".  The \"for loop\" *iterates* through items in a list or range, carrying out some action for each item.  Two examples will illustrate."
      ]
    },
    {
      "cell_type": "code",
      "metadata": {
        "id": "mwdKBi3kU5yV",
        "colab": {
          "base_uri": "https://localhost:8080/"
        },
        "outputId": "73f423ab-b472-4699-974b-d9ca32c4c9a2"
      },
      "source": [
        "for n in [1,2,3,4,5]:\n",
        "    print(n*n)"
      ],
      "execution_count": null,
      "outputs": [
        {
          "output_type": "stream",
          "text": [
            "1\n",
            "4\n",
            "9\n",
            "16\n",
            "25\n"
          ],
          "name": "stdout"
        }
      ]
    },
    {
      "cell_type": "code",
      "metadata": {
        "id": "HC031A4LU5yV",
        "colab": {
          "base_uri": "https://localhost:8080/"
        },
        "outputId": "44459d04-dd3e-4c85-d6fc-ea5c4c2b7613"
      },
      "source": [
        "for s in ['I','Am','Python']:\n",
        "    print(s + \"!\")"
      ],
      "execution_count": null,
      "outputs": [
        {
          "output_type": "stream",
          "text": [
            "I!\n",
            "Am!\n",
            "Python!\n"
          ],
          "name": "stdout"
        }
      ]
    },
    {
      "cell_type": "markdown",
      "metadata": {
        "id": "yuctH9OZU5yV"
      },
      "source": [
        "The first loop, **unraveled**, carries out the following sequence of commands."
      ]
    },
    {
      "cell_type": "code",
      "metadata": {
        "id": "UY4izCfvU5yV",
        "colab": {
          "base_uri": "https://localhost:8080/"
        },
        "outputId": "292f3448-fd77-492e-f589-59aac99a6bff"
      },
      "source": [
        "n = 1\n",
        "print(n*n)\n",
        "n = 2\n",
        "print(n*n)\n",
        "n = 3\n",
        "print(n*n)\n",
        "n = 4\n",
        "print(n*n)\n",
        "n = 5\n",
        "print(n*n)"
      ],
      "execution_count": null,
      "outputs": [
        {
          "output_type": "stream",
          "text": [
            "1\n",
            "4\n",
            "9\n",
            "16\n",
            "25\n"
          ],
          "name": "stdout"
        }
      ]
    },
    {
      "cell_type": "markdown",
      "metadata": {
        "id": "IgnUBVI0U5yV"
      },
      "source": [
        "But the \"for loop\" is more efficient *and* more readable to programmers.  Indeed, it saves the repetition of writing the same command `print(n*n)` over and over again.  It also makes transparent, from the beginning, the range of values that `n` is assigned to.  \n",
        "\n",
        "When you read and write \"for loops\", you should consider how they look unravelled -- that is how Python will carry out the loop.  And when you find yourself faced with a repetetive task, you might consider whether it may be wrapped up in a for loop.  Most of the time, you should try to write code that *never repeats* the same task.  If there is repetition, wrap it in a loop."
      ]
    },
    {
      "cell_type": "markdown",
      "metadata": {
        "id": "M16fubaDU5yV"
      },
      "source": [
        "Try to unravel the loop below, and predict the result, before evaluating the code."
      ]
    },
    {
      "cell_type": "code",
      "metadata": {
        "id": "vOyvFfJcU5yW",
        "colab": {
          "base_uri": "https://localhost:8080/"
        },
        "outputId": "26397d8c-09bc-45ec-9e2e-f25a51a5afbd"
      },
      "source": [
        "P = 1\n",
        "for n in range(1,6):\n",
        "    P = P * n\n",
        "print(P)"
      ],
      "execution_count": null,
      "outputs": [
        {
          "output_type": "stream",
          "text": [
            "120\n"
          ],
          "name": "stdout"
        }
      ]
    },
    {
      "cell_type": "markdown",
      "metadata": {
        "id": "I79mIz44U5yW"
      },
      "source": [
        "This might have been difficult!  So what if you want to trace through the loop, as it goes?  Sometimes, especially when debugging, it's useful to inspect every step of the loop to see what Python is doing.  We can inspect the loop above, by inserting a print command within the *scope* of the loop."
      ]
    },
    {
      "cell_type": "code",
      "metadata": {
        "id": "C6bVCkZdU5yW",
        "colab": {
          "base_uri": "https://localhost:8080/"
        },
        "outputId": "ccc7099f-3be4-4ce1-ba21-21a7c9b18724"
      },
      "source": [
        "P = 1\n",
        "for n in range(1,6):\n",
        "    P = P * n\n",
        "    print(\"n is\",n,\"and P is\",P)\n",
        "print(P)"
      ],
      "execution_count": null,
      "outputs": [
        {
          "output_type": "stream",
          "text": [
            "n is 1 and P is 1\n",
            "n is 2 and P is 2\n",
            "n is 3 and P is 6\n",
            "n is 4 and P is 24\n",
            "n is 5 and P is 120\n",
            "120\n"
          ],
          "name": "stdout"
        }
      ]
    },
    {
      "cell_type": "markdown",
      "metadata": {
        "id": "y8kjJUJAU5yW"
      },
      "source": [
        "Here we have used the *print* command with strings and numbers together.  In Python 3.x, you can print multiple things on the same line by separating them by commas.  The \"things\" can be strings (enclosed by single or double-quotes) and numbers (int, float, etc.)."
      ]
    },
    {
      "cell_type": "code",
      "metadata": {
        "id": "wUu0BH2lU5yW",
        "colab": {
          "base_uri": "https://localhost:8080/"
        },
        "outputId": "4c0a9905-bc44-4fb4-ff32-0165b6d68380"
      },
      "source": [
        "print(\"My favorite number is\",17)"
      ],
      "execution_count": null,
      "outputs": [
        {
          "output_type": "stream",
          "text": [
            "My favorite number is 17\n"
          ],
          "name": "stdout"
        }
      ]
    },
    {
      "cell_type": "markdown",
      "metadata": {
        "id": "TPCXSm1LU5yW"
      },
      "source": [
        "If we unravel the loop above, the linear sequence of commands interpreted by Python is the following."
      ]
    },
    {
      "cell_type": "code",
      "metadata": {
        "id": "KzUl3ac7U5yW",
        "colab": {
          "base_uri": "https://localhost:8080/"
        },
        "outputId": "f8df7f94-33b6-4e8d-f739-50813447551f"
      },
      "source": [
        "P = 1\n",
        "n = 1\n",
        "P = P * n\n",
        "print(\"n is\",n,\"and P is\",P)\n",
        "n = 2\n",
        "P = P * n\n",
        "print(\"n is\",n,\"and P is\",P)\n",
        "n = 3\n",
        "P = P * n\n",
        "print(\"n is\",n,\"and P is\",P)\n",
        "n = 4\n",
        "P = P * n\n",
        "print(\"n is\",n,\"and P is\",P)\n",
        "n = 5\n",
        "P = P * n\n",
        "print(\"n is\",n,\"and P is\",P)\n",
        "print (P)"
      ],
      "execution_count": null,
      "outputs": [
        {
          "output_type": "stream",
          "text": [
            "n is 1 and P is 1\n",
            "n is 2 and P is 2\n",
            "n is 3 and P is 6\n",
            "n is 4 and P is 24\n",
            "n is 5 and P is 120\n",
            "120\n"
          ],
          "name": "stdout"
        }
      ]
    },
    {
      "cell_type": "markdown",
      "metadata": {
        "id": "44_u1MSrU5yW"
      },
      "source": [
        "Let's analyze the loop syntax in more detail.  \n",
        "```python\n",
        "P = 1\n",
        "for n in range(1,6):\n",
        "    P = P * n  # this command is in the scope of the loop.\n",
        "    print(\"n is\",n,\"and P is\",P)  # this command is in the scope of the loop too!\n",
        "print(P)\n",
        "```\n",
        "The \"for\" command ends with a colon `:`, and the **next two** lines are indented.  The colon and indentation are indicators of **scope**.  The *scope* of the for loop begins after the colon, and includes all indented lines.  The *scope* of the for loop is what is repeated in every step of the loop (in addition to the reassignment of `n`).  "
      ]
    },
    {
      "cell_type": "code",
      "metadata": {
        "id": "jE003_YTU5yW",
        "colab": {
          "base_uri": "https://localhost:8080/"
        },
        "outputId": "2b1cd26d-395a-4a83-d19f-94b88ca50292"
      },
      "source": [
        "P = 1\n",
        "for n in range(1,6):\n",
        "    P = P * n  # this command is in the scope of the loop.\n",
        "    print(\"n is\",n,\"and P is\",P)  # this command is in the scope of the loop too!\n",
        "print(P)"
      ],
      "execution_count": null,
      "outputs": [
        {
          "output_type": "stream",
          "text": [
            "n is 1 and P is 1\n",
            "n is 2 and P is 2\n",
            "n is 3 and P is 6\n",
            "n is 4 and P is 24\n",
            "n is 5 and P is 120\n",
            "120\n"
          ],
          "name": "stdout"
        }
      ]
    },
    {
      "cell_type": "markdown",
      "metadata": {
        "id": "8wXaf4hxU5yW"
      },
      "source": [
        "If we change the indentation, it changes the scope of the for loop.  Predict what the following loop will do, by unraveling, before evaluating it."
      ]
    },
    {
      "cell_type": "code",
      "metadata": {
        "id": "F_FcpC5QU5yX",
        "colab": {
          "base_uri": "https://localhost:8080/"
        },
        "outputId": "18f2b0d7-f4d1-42fc-bbe1-3119f81a7ac7"
      },
      "source": [
        "P = 1\n",
        "for n in range(1,6):\n",
        "    P = P * n\n",
        "print(\"n is\",n,\"and P is\",P)\n",
        "print(P)"
      ],
      "execution_count": null,
      "outputs": [
        {
          "output_type": "stream",
          "text": [
            "n is 5 and P is 120\n",
            "120\n"
          ],
          "name": "stdout"
        }
      ]
    },
    {
      "cell_type": "markdown",
      "metadata": {
        "id": "__tEmpKPU5yX"
      },
      "source": [
        "Scopes can be nested by nesting indentation.  What do you think the following loop will do?  Can you unravel it?"
      ]
    },
    {
      "cell_type": "code",
      "metadata": {
        "id": "9fboPJdAU5yX",
        "colab": {
          "base_uri": "https://localhost:8080/"
        },
        "outputId": "91bc8c94-7d7a-4c5d-901b-c4224db7f1e4"
      },
      "source": [
        "for x in [1,2,3]:\n",
        "    for y in ['a', 'b']:\n",
        "        print(x,y)"
      ],
      "execution_count": null,
      "outputs": [
        {
          "output_type": "stream",
          "text": [
            "1 a\n",
            "1 b\n",
            "2 a\n",
            "2 b\n",
            "3 a\n",
            "3 b\n"
          ],
          "name": "stdout"
        }
      ]
    },
    {
      "cell_type": "markdown",
      "metadata": {
        "id": "HmXwPykdU5yX"
      },
      "source": [
        "How might you create a nested loop which prints `1 a` then `2 a` then `3 a` then `1 b` then `2 b` then `3 b`?  Try it below."
      ]
    },
    {
      "cell_type": "code",
      "metadata": {
        "id": "b97leVdkU5yX"
      },
      "source": [
        "# Insert your loop here."
      ],
      "execution_count": null,
      "outputs": []
    },
    {
      "cell_type": "markdown",
      "metadata": {
        "id": "ofCBY24EU5yX"
      },
      "source": [
        "Among popular programming languages, Python is particular about indentation.  Other languages indicate scope with open/close braces, for example, and indentation is just a matter of style.  By requiring indentation to indicate scope, Python effectively removes the need for open/close braces, and enforces a readable style.\n",
        "\n",
        "We have now encountered data types, operations, variables, and loops.  Taken together, these are powerful tools for computation!  Now complete the following exercises for more practice."
      ]
    },
    {
      "cell_type": "markdown",
      "metadata": {
        "id": "JBr_HgrSU5yX"
      },
      "source": [
        "## Exercises"
      ]
    },
    {
      "cell_type": "markdown",
      "metadata": {
        "id": "FEQTm_WZU5yX"
      },
      "source": [
        "1.  Describe how Python interprets division with remainder when the divisor and/or dividend is negative.\n",
        "2.  What is the remainder when $2^{90}$ is divided by $91$?\n",
        "3.  How many multiples of 13 are there between 1 and 1000?\n",
        "4.  How many *odd* multiples of 13 are there between 1 and 1000?\n",
        "5.  What is the sum of the numbers from 1 to 1000?\n",
        "6.  What is the sum of the squares, from $1 \\cdot 1$ to $1000 \\cdot 1000$?\n",
        "7.  Euler proved that\n",
        "$$\\frac{1}{1^4} + \\frac{1}{2^4} + \\frac{1}{3^4} + \\cdots = \\frac{\\pi^4}{C},$$\n",
        "for some positive integer $C$.  Use Python to guess what $C$ is."
      ]
    },
    {
      "cell_type": "code",
      "metadata": {
        "id": "F870MLhKU5yX",
        "colab": {
          "base_uri": "https://localhost:8080/"
        },
        "outputId": "d94272ab-836a-4219-d2d4-7ff4ca41b893"
      },
      "source": [
        "# Insert your solutions here.\r\n",
        "-20%6"
      ],
      "execution_count": null,
      "outputs": [
        {
          "output_type": "execute_result",
          "data": {
            "text/plain": [
              "4"
            ]
          },
          "metadata": {
            "tags": []
          },
          "execution_count": 111
        }
      ]
    },
    {
      "cell_type": "markdown",
      "metadata": {
        "id": "0Ni9fvlhOEUK"
      },
      "source": [
        "1.) Python will interpret a negative dividend in division with remainder the remainder will still be positive, since if you do -20 % 6, you will get a positive 4, but if you do 20 % -6, you will get -4, so a negative divisior will treat the remainder as a negative."
      ]
    },
    {
      "cell_type": "code",
      "metadata": {
        "id": "s3pNB19yO092",
        "colab": {
          "base_uri": "https://localhost:8080/"
        },
        "outputId": "45a1b67a-789b-407c-9f75-c8e7cb33c551"
      },
      "source": [
        "(2**90) % 91"
      ],
      "execution_count": null,
      "outputs": [
        {
          "output_type": "execute_result",
          "data": {
            "text/plain": [
              "64"
            ]
          },
          "metadata": {
            "tags": []
          },
          "execution_count": 113
        }
      ]
    },
    {
      "cell_type": "markdown",
      "metadata": {
        "id": "lmiQ-z5pO_c4"
      },
      "source": [
        "2.) 64"
      ]
    },
    {
      "cell_type": "code",
      "metadata": {
        "id": "q96DgGB6PDD0",
        "colab": {
          "base_uri": "https://localhost:8080/"
        },
        "outputId": "774bfec5-2c6c-4f62-99c6-7f516f2b0144"
      },
      "source": [
        "len (range(1,1000,13))"
      ],
      "execution_count": null,
      "outputs": [
        {
          "output_type": "execute_result",
          "data": {
            "text/plain": [
              "77"
            ]
          },
          "metadata": {
            "tags": []
          },
          "execution_count": 114
        }
      ]
    },
    {
      "cell_type": "markdown",
      "metadata": {
        "id": "W5BXNbamPImH"
      },
      "source": [
        "3.) 77"
      ]
    },
    {
      "cell_type": "markdown",
      "metadata": {
        "id": "_BqFIUFCP3ym"
      },
      "source": [
        "4.) 39"
      ]
    },
    {
      "cell_type": "code",
      "metadata": {
        "id": "v4RSDxO6QD4B",
        "colab": {
          "base_uri": "https://localhost:8080/"
        },
        "outputId": "fa1fd642-fd4c-45da-9785-a9ba850a0e33"
      },
      "source": [
        "sum(range(1,1001))"
      ],
      "execution_count": null,
      "outputs": [
        {
          "output_type": "execute_result",
          "data": {
            "text/plain": [
              "500500"
            ]
          },
          "metadata": {
            "tags": []
          },
          "execution_count": 117
        }
      ]
    },
    {
      "cell_type": "markdown",
      "metadata": {
        "id": "EzOMXdqDQzIn"
      },
      "source": [
        "5.) 500500"
      ]
    },
    {
      "cell_type": "code",
      "metadata": {
        "id": "CvEliBRUQ1H9",
        "colab": {
          "base_uri": "https://localhost:8080/"
        },
        "outputId": "f913290f-6322-468a-9d61-45bb399aaae3"
      },
      "source": [
        "add = 0\r\n",
        "for n in range(1,1001):\r\n",
        "  add = add + n**2\r\n",
        "print (add)"
      ],
      "execution_count": null,
      "outputs": [
        {
          "output_type": "stream",
          "text": [
            "333833500\n"
          ],
          "name": "stdout"
        }
      ]
    },
    {
      "cell_type": "markdown",
      "metadata": {
        "id": "FMORIbzCSTXy"
      },
      "source": [
        "6) 333833500"
      ]
    },
    {
      "cell_type": "code",
      "metadata": {
        "id": "7u87eFM1Sg3-",
        "colab": {
          "base_uri": "https://localhost:8080/"
        },
        "outputId": "36fe49a2-3966-465b-eb2c-f73002cb2066"
      },
      "source": [
        "leftside = 0\r\n",
        "for n in range (1,10000000):\r\n",
        "  leftside = leftside + (1/(n**4))\r\n",
        "pi = 3.14159265\r\n",
        "C = (pi**4) / leftside\r\n",
        "print (C)\r\n"
      ],
      "execution_count": null,
      "outputs": [
        {
          "output_type": "stream",
          "text": [
            "89.99999958866306\n"
          ],
          "name": "stdout"
        }
      ]
    },
    {
      "cell_type": "markdown",
      "metadata": {
        "id": "3nmA7XFLTw2e"
      },
      "source": [
        "7.) C = 90"
      ]
    },
    {
      "cell_type": "markdown",
      "metadata": {
        "id": "nS9xYcpCU5yY"
      },
      "source": [
        "# Explorations\n",
        "\n",
        "Now that you have learned the basics of computation in Python and loops, we can start exploring some interesting mathematics!  We are going to look at approximation here -- some ancient questions made easier with programming."
      ]
    },
    {
      "cell_type": "markdown",
      "metadata": {
        "id": "IfPCPAu5U5yY"
      },
      "source": [
        "## Exploration 1:  Approximating square roots.\n",
        "\n",
        "We have seen how Python can do basic arithmetic -- addition, subtraction, multiplication, and division.  But what about other functions, like the square root?  In fact, Python offers a few functions for the square root, but that's not the point.  How can we compute the square root using only basic arithmetic?  \n",
        "\n",
        "Why might we care?\n",
        "\n",
        "1.  We might want to know the square root of a number with more precision than the Python function offers.\n",
        "2.  We might want to understand how the square root is computed... under the hood.\n",
        "3.  Understanding approximations of square roots and other functions is important, because we might want to approximate other functions in the future (that aren't pre-programmed for us).\n",
        "\n",
        "Here is a method for approximating the square root of a number $X$.\n",
        "\n",
        "1.  Begin with a guess $g$.\n",
        "2.  Observe that $g \\cdot (X / g) = X$.  Therefore, among the two numbers $g$ and $(X/g)$, one will be less than or equal to the square root of X, and the other will be greater than or equal to the square root.\n",
        "3.  Take the average of $g$ and $(X/g)$.  This will be closer to the square root than $g$ or $X/g$ (unless your guess is exactly right!) \n",
        "4.  Use this average as a new guess... and go back to the beginning.\n",
        "\n",
        "Now implement this in Python to approximate the square root of 2.  Use a loop, so that you can go through the approximation process 10 times or 100 times or however many you wish.  Explore the effect of different starting guesses.  Would a change in the averaging function improve the approximation?  How quickly does this converge?  How does this change if you try square roots of different positive numbers?\n",
        "\n",
        "Write your code (Python) and findings (in Markdown cells) in a readable form.  Answer the questions in complete sentences.\n",
        "\n"
      ]
    },
    {
      "cell_type": "code",
      "metadata": {
        "id": "PoGqUlqoU5yY"
      },
      "source": [
        "#  Start your explorations here!"
      ],
      "execution_count": null,
      "outputs": []
    },
    {
      "cell_type": "markdown",
      "metadata": {
        "id": "gHxmSYaoc8v0"
      },
      "source": [
        "Describe your findings here."
      ]
    },
    {
      "cell_type": "markdown",
      "metadata": {
        "id": "fOUbCcfxU5yY"
      },
      "source": [
        "## Exploration 2:  Approximating e and pi.\n",
        "\n",
        "Now we approximate two of the most important constants in mathematics:  e and pi.  There are multiple approaches, but e is pretty easy with the series expansion of e^x.  First, approximate e by evaluating the Taylor series expansion of e^x at x=1.  I.e., remember from calculus that\n",
        "$$e^x = 1 + x + \\frac{1}{2} x^2 + \\frac{1}{3!} x^3 + \\frac{1}{4!} x^4 + \\cdots.$$\n",
        "How many terms are necessary before the float stabilizes?  Use a loop, with a running product for the factorials and running sums for the series."
      ]
    },
    {
      "cell_type": "code",
      "metadata": {
        "id": "cH0ApCftU5yY"
      },
      "source": [
        "#  Approximate e here."
      ],
      "execution_count": null,
      "outputs": []
    },
    {
      "cell_type": "markdown",
      "metadata": {
        "id": "YYhT-tDRU5yY"
      },
      "source": [
        "Next we will approximate pi, which is much more interesting.  We can try a few approaches.  For a series-approach (like e), we need a series that converges to pi.  A simple example is the arctangent atan(x).  Recall (precalculus!) that $atan(1) = \\pi/4$.  Moreover, the derivative of $atan(x)$ is $1 / (1+x^2)$.  \n",
        "\n",
        "1.  Figure out the Taylor series of $1 / (1+x^2)$ near $x=0$.  Note that this is a geometric series! \n",
        "\n",
        "2.  Figure out the Taylor series of $atan(x)$ near $x=0$ by taking the antiderivative, term by term, of the above.\n",
        "\n",
        "3.  Try to estimate $\\pi$ with this series, using many terms of the series."
      ]
    },
    {
      "cell_type": "code",
      "metadata": {
        "id": "wYlwMQxBU5yY"
      },
      "source": [
        "#  Approximate pi here!"
      ],
      "execution_count": null,
      "outputs": []
    },
    {
      "cell_type": "markdown",
      "metadata": {
        "id": "77BvRTGFU5yY"
      },
      "source": [
        "Now we'll accelerate things a bit.  There's a famous formula of Machin (1706) who computed the first hundred digits of $\\pi$.  We'll use his identity:\n",
        "\n",
        "$\\pi/4 = 4 \\cdot atan(1/5) - atan(1 / 239)$.  \n",
        "\n",
        "This isn't obvious, but there's a tedious proof using sum/difference identities in trig.\n",
        "\n",
        "Try using this formula now to approximate $\\pi$, using your Taylor series for $atan(x)$.  It should require fewer terms."
      ]
    },
    {
      "cell_type": "code",
      "metadata": {
        "id": "71EwcYnMU5yY"
      },
      "source": [
        "#  Approximate pi more quickly here!"
      ],
      "execution_count": null,
      "outputs": []
    },
    {
      "cell_type": "markdown",
      "metadata": {
        "id": "NazcANnNU5yY"
      },
      "source": [
        "Now let's compare this to **Archimedes' method**.  Archimedes approximated pi by looking at the perimeters $p(n)$ and $P(n)$ of ($2^n$)-gons inscribed in and circumscribed around a unit circle.  So $p(2)$ is the perimeter of a square inscribed in the unit circle.  $P(2)$ is the perimeter of a square circumscribed around a unit circle.\n",
        "\n",
        "Archimedes proved the following (not in the formulaic language of algebra):  For all $n \\geq 2$,\n",
        "\n",
        "(P-formula)  $P(n+1) = \\frac{2  p(n) P(n)}{p(n) + P(n)}$.\n",
        "\n",
        "(p-formula)  $p(n+1) = \\sqrt{ p(n)  P(n+1) }$.\n",
        "\n",
        "1.  Compute $p(2)$ and $P(2)$.\n",
        "\n",
        "2.  Use these formulas to compute $p(10)$ and $P(10)$.  Use this to get a good approximation for $\\pi$!\n",
        "\n",
        "We could use our previous sqrt function if you want, we'll take a fancier high-precision approach.  \"mpmath\" is a Python package for high-precision calculation.  It should be accessible through Google Colab.  You can read the full documentation at http://mpmath.org/doc/current/\n",
        "\n",
        "First we load the package and print its status."
      ]
    },
    {
      "cell_type": "code",
      "metadata": {
        "id": "uJZZ9M_PU5yZ",
        "colab": {
          "base_uri": "https://localhost:8080/"
        },
        "outputId": "4f9847cf-61e8-47d2-a2aa-23d872079915"
      },
      "source": [
        "from mpmath import *\n",
        "print(mp)"
      ],
      "execution_count": null,
      "outputs": [
        {
          "output_type": "stream",
          "text": [
            "Mpmath settings:\n",
            "  mp.prec = 53                [default: 53]\n",
            "  mp.dps = 15                 [default: 15]\n",
            "  mp.trap_complex = False     [default: False]\n"
          ],
          "name": "stdout"
        }
      ]
    },
    {
      "cell_type": "markdown",
      "metadata": {
        "id": "17mWwbgyU5yZ"
      },
      "source": [
        "The number mp.dps is (roughly) the number of decimal digits that mpmath will keep track of in its computations.  mp.prec is the binary precision, a bit more than 3 times the decimal precision.  We can change this to whatever we want."
      ]
    },
    {
      "cell_type": "code",
      "metadata": {
        "id": "f2aNKEWeU5yZ",
        "colab": {
          "base_uri": "https://localhost:8080/"
        },
        "outputId": "066c9a35-03e0-43c5-e303-d79486c3bb0b"
      },
      "source": [
        "mp.dps = 50 # Let's try 50 digits precision to start.\n",
        "print(mp)"
      ],
      "execution_count": null,
      "outputs": [
        {
          "output_type": "stream",
          "text": [
            "Mpmath settings:\n",
            "  mp.prec = 169               [default: 53]\n",
            "  mp.dps = 50                 [default: 15]\n",
            "  mp.trap_complex = False     [default: False]\n"
          ],
          "name": "stdout"
        }
      ]
    },
    {
      "cell_type": "markdown",
      "metadata": {
        "id": "AVFYKq9hU5yZ"
      },
      "source": [
        "mpmath has a nice function for square roots.  Compare this to your approximation from before!"
      ]
    },
    {
      "cell_type": "code",
      "metadata": {
        "scrolled": true,
        "id": "IynhKMaLU5yZ",
        "colab": {
          "base_uri": "https://localhost:8080/"
        },
        "outputId": "5bcf8b28-1126-44e5-e5e5-a39ba6e50d95"
      },
      "source": [
        "sqrt(2)  # mpf(...) stands for an mp-float.  "
      ],
      "execution_count": null,
      "outputs": [
        {
          "output_type": "execute_result",
          "data": {
            "text/plain": [
              "mpf('1.4142135623730950488016887242096980785696718753769468')"
            ]
          },
          "metadata": {
            "tags": []
          },
          "execution_count": 137
        }
      ]
    },
    {
      "cell_type": "code",
      "metadata": {
        "id": "quMwWJJ3U5yZ",
        "colab": {
          "base_uri": "https://localhost:8080/"
        },
        "outputId": "e45c35a0-2ae0-4e78-bf10-2e210b5e81d9"
      },
      "source": [
        "type(sqrt(2)) # mpmath stores numbers in its own types!"
      ],
      "execution_count": null,
      "outputs": [
        {
          "output_type": "execute_result",
          "data": {
            "text/plain": [
              "mpmath.ctx_mp_python.mpf"
            ]
          },
          "metadata": {
            "tags": []
          },
          "execution_count": 138
        }
      ]
    },
    {
      "cell_type": "code",
      "metadata": {
        "id": "3WEkkeNNU5yZ",
        "colab": {
          "base_uri": "https://localhost:8080/"
        },
        "outputId": "fe1f9c6d-7b05-46da-858f-1253868df58b"
      },
      "source": [
        "4*mp.atan(1) # mpmath has the arctan built in.  This should be pretty close to pi!"
      ],
      "execution_count": null,
      "outputs": [
        {
          "output_type": "execute_result",
          "data": {
            "text/plain": [
              "mpf('3.1415926535897932384626433832795028841971693993751068')"
            ]
          },
          "metadata": {
            "tags": []
          },
          "execution_count": 139
        }
      ]
    },
    {
      "cell_type": "markdown",
      "metadata": {
        "id": "8oMFGUkiU5yZ"
      },
      "source": [
        "Now try Archimedes' approximation of pi.  Use the mpmath sqrt function along the way.  How many iterations do you need to get pi correct to 100 digits?  Compare this to the arctan-series (not the mpmath atan function) via Machin's formula."
      ]
    },
    {
      "cell_type": "code",
      "metadata": {
        "id": "ulLOs22VU5yZ"
      },
      "source": [
        "#  Explore and experiment."
      ],
      "execution_count": null,
      "outputs": []
    }
  ]
}